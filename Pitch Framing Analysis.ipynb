{
 "cells": [
  {
   "cell_type": "code",
   "execution_count": 1,
   "metadata": {},
   "outputs": [],
   "source": [
    "import pandas as pd\n",
    "from pybaseball import statcast, playerid_lookup\n",
    "import matplotlib.pyplot as plt\n",
    "import matplotlib.patches as patches"
   ]
  },
  {
   "cell_type": "code",
   "execution_count": 3,
   "metadata": {},
   "outputs": [
    {
     "name": "stdout",
     "output_type": "stream",
     "text": [
      "This is a large query, it may take a moment to complete\n",
      "Query unsuccessful for data from 2019-11-04 to 2019-11-08. Skipping these dates.\n",
      "Query unsuccessful for data from 2019-11-09 to 2019-11-09. Skipping these dates.\n",
      "Query unsuccessful for data from 2019-11-10 to 2019-11-14. Skipping these dates.\n",
      "Query unsuccessful for data from 2019-11-15 to 2019-11-15. Skipping these dates.\n"
     ]
    }
   ],
   "source": [
    "#getting all pitches from 2019 season\n",
    "data = statcast('2019-03-15','2019-11-15', verbose = False)"
   ]
  },
  {
   "cell_type": "code",
   "execution_count": 7,
   "metadata": {},
   "outputs": [
    {
     "data": {
      "text/plain": [
       "0    543228.0\n",
       "1    543228.0\n",
       "2    543228.0\n",
       "3    543228.0\n",
       "4    543228.0\n",
       "Name: fielder_2, dtype: float64"
      ]
     },
     "execution_count": 7,
     "metadata": {},
     "output_type": "execute_result"
    }
   ],
   "source": [
    "#mlb ids for catchers\n",
    "data.head().fielder_2"
   ]
  },
  {
   "cell_type": "code",
   "execution_count": 8,
   "metadata": {},
   "outputs": [],
   "source": [
    "from pybaseball import playerid_reverse_lookup"
   ]
  },
  {
   "cell_type": "code",
   "execution_count": 11,
   "metadata": {},
   "outputs": [
    {
     "data": {
      "text/plain": [
       "array(['swinging_strike', 'foul', 'ball', 'called_strike',\n",
       "       'hit_into_play', 'hit_into_play_score', 'hit_into_play_no_out',\n",
       "       'swinging_strike_blocked', 'blocked_ball', 'hit_by_pitch',\n",
       "       'foul_bunt', 'foul_tip', 'missed_bunt', 'pitchout',\n",
       "       'bunt_foul_tip'], dtype=object)"
      ]
     },
     "execution_count": 11,
     "metadata": {},
     "output_type": "execute_result"
    }
   ],
   "source": [
    "data.description.unique()"
   ]
  },
  {
   "cell_type": "code",
   "execution_count": 12,
   "metadata": {},
   "outputs": [
    {
     "data": {
      "text/plain": [
       "(735572, 90)"
      ]
     },
     "execution_count": 12,
     "metadata": {},
     "output_type": "execute_result"
    }
   ],
   "source": [
    "data.shape"
   ]
  },
  {
   "cell_type": "code",
   "execution_count": 13,
   "metadata": {},
   "outputs": [],
   "source": [
    "#only looking at called strikes\n",
    "cstrikes = data[data['description'] == 'called_strike']"
   ]
  },
  {
   "cell_type": "code",
   "execution_count": 14,
   "metadata": {},
   "outputs": [
    {
     "data": {
      "text/plain": [
       "(120868, 90)"
      ]
     },
     "execution_count": 14,
     "metadata": {},
     "output_type": "execute_result"
    }
   ],
   "source": [
    "cstrikes.shape"
   ]
  },
  {
   "cell_type": "code",
   "execution_count": 15,
   "metadata": {},
   "outputs": [],
   "source": [
    "#getting all balls\n",
    "balls = data[data['description'] == 'ball']"
   ]
  },
  {
   "cell_type": "code",
   "execution_count": 16,
   "metadata": {},
   "outputs": [
    {
     "data": {
      "text/plain": [
       "(247028, 90)"
      ]
     },
     "execution_count": 16,
     "metadata": {},
     "output_type": "execute_result"
    }
   ],
   "source": [
    "balls.shape"
   ]
  },
  {
   "cell_type": "code",
   "execution_count": 30,
   "metadata": {},
   "outputs": [],
   "source": [
    "import matplotlib.pyplot as plt"
   ]
  },
  {
   "cell_type": "code",
   "execution_count": 71,
   "metadata": {},
   "outputs": [],
   "source": [
    "#getting all strikes that were out of the strike zone\n",
    "ooz_strikes = cstrikes.loc[~(((cstrikes['plate_z'] <= cstrikes['sz_top']) & \n",
    "                           (cstrikes['plate_z'] >= cstrikes['sz_bot'])) & \n",
    "                             ((cstrikes['plate_x'] >= (-8.5/12)) &\n",
    "                            (cstrikes['plate_x'] <= (8.5/12))))]"
   ]
  },
  {
   "cell_type": "code",
   "execution_count": 73,
   "metadata": {},
   "outputs": [
    {
     "data": {
      "text/plain": [
       "<matplotlib.collections.PathCollection at 0x7f8a86b73898>"
      ]
     },
     "execution_count": 73,
     "metadata": {},
     "output_type": "execute_result"
    },
    {
     "data": {
      "image/png": "[encoded data removed]",
      "text/plain": [
       "<Figure size 432x288 with 1 Axes>"
      ]
     },
     "metadata": {
      "needs_background": "light"
     },
     "output_type": "display_data"
    }
   ],
   "source": [
    "plt.scatter(ooz_strikes['plate_x'],ooz_strikes['plate_z'])"
   ]
  },
  {
   "cell_type": "code",
   "execution_count": 80,
   "metadata": {},
   "outputs": [],
   "source": [
    "import seaborn as sns"
   ]
  },
  {
   "cell_type": "code",
   "execution_count": 82,
   "metadata": {},
   "outputs": [
    {
     "name": "stderr",
     "output_type": "stream",
     "text": [
      "/Users/jeremiahwilson/anaconda3/lib/python3.7/site-packages/ipykernel_launcher.py:1: SettingWithCopyWarning: \n",
      "A value is trying to be set on a copy of a slice from a DataFrame.\n",
      "Try using .loc[row_indexer,col_indexer] = value instead\n",
      "\n",
      "See the caveats in the documentation: http://pandas.pydata.org/pandas-docs/stable/indexing.html#indexing-view-versus-copy\n",
      "  \"\"\"Entry point for launching an IPython kernel.\n"
     ]
    }
   ],
   "source": [
    "#making octant column so I can measure the distance of each pitch from the zone based on octant\n",
    "ooz_strikes['octant'] = 'oct0'"
   ]
  },
  {
   "cell_type": "code",
   "execution_count": 84,
   "metadata": {},
   "outputs": [
    {
     "name": "stderr",
     "output_type": "stream",
     "text": [
      "/Users/jeremiahwilson/anaconda3/lib/python3.7/site-packages/pandas/core/indexing.py:543: SettingWithCopyWarning: \n",
      "A value is trying to be set on a copy of a slice from a DataFrame.\n",
      "Try using .loc[row_indexer,col_indexer] = value instead\n",
      "\n",
      "See the caveats in the documentation: http://pandas.pydata.org/pandas-docs/stable/indexing.html#indexing-view-versus-copy\n",
      "  self.obj[item] = s\n"
     ]
    }
   ],
   "source": [
    "ooz_strikes.loc[(ooz_strikes['plate_z'] > ooz_strikes['sz_top']) & \n",
    "                ((ooz_strikes['plate_x'] <= 8.5/12) & (ooz_strikes['plate_x'] >= (-8.5/12))), 'octant'] = 'oct1'"
   ]
  },
  {
   "cell_type": "code",
   "execution_count": 86,
   "metadata": {},
   "outputs": [],
   "source": [
    "ooz_strikes.loc[(ooz_strikes['plate_z'] > ooz_strikes['sz_top']) & \n",
    "                ((ooz_strikes['plate_x'] > 8.5/12)), 'octant'] = 'oct2'"
   ]
  },
  {
   "cell_type": "code",
   "execution_count": 88,
   "metadata": {},
   "outputs": [],
   "source": [
    "ooz_strikes.loc[((ooz_strikes['plate_z'] <= ooz_strikes['sz_top']) & \n",
    "                 (ooz_strikes['plate_z'] >= ooz_strikes['sz_bot'])) & \n",
    "                ((ooz_strikes['plate_x'] > 8.5/12)), 'octant'] = 'oct3'"
   ]
  },
  {
   "cell_type": "code",
   "execution_count": 90,
   "metadata": {},
   "outputs": [],
   "source": [
    "ooz_strikes.loc[(ooz_strikes['plate_z'] < ooz_strikes['sz_bot']) & \n",
    "                ((ooz_strikes['plate_x'] > 8.5/12)), 'octant'] = 'oct4'"
   ]
  },
  {
   "cell_type": "code",
   "execution_count": 92,
   "metadata": {},
   "outputs": [],
   "source": [
    "ooz_strikes.loc[(ooz_strikes['plate_z'] < ooz_strikes['sz_bot']) & \n",
    "                ((ooz_strikes['plate_x'] <= 8.5/12) & (ooz_strikes['plate_x'] >= (-8.5/12))), 'octant'] = 'oct5'"
   ]
  },
  {
   "cell_type": "code",
   "execution_count": 93,
   "metadata": {},
   "outputs": [],
   "source": [
    "ooz_strikes.loc[(ooz_strikes['plate_z'] < ooz_strikes['sz_bot']) & \n",
    "                ((ooz_strikes['plate_x'] < (-8.5/12))), 'octant'] = 'oct6'"
   ]
  },
  {
   "cell_type": "code",
   "execution_count": 94,
   "metadata": {},
   "outputs": [],
   "source": [
    "ooz_strikes.loc[((ooz_strikes['plate_z'] <= ooz_strikes['sz_top']) & \n",
    "                 (ooz_strikes['plate_z'] >= ooz_strikes['sz_bot'])) & \n",
    "                ((ooz_strikes['plate_x'] < (-8.5/12))), 'octant'] = 'oct7'"
   ]
  },
  {
   "cell_type": "code",
   "execution_count": 95,
   "metadata": {},
   "outputs": [],
   "source": [
    "ooz_strikes.loc[(ooz_strikes['plate_z'] > ooz_strikes['sz_top']) & \n",
    "                ((ooz_strikes['plate_x'] < (-8.5/12))), 'octant'] = 'oct8'"
   ]
  },
  {
   "cell_type": "code",
   "execution_count": 100,
   "metadata": {},
   "outputs": [
    {
     "data": {
      "text/plain": [
       "(40462, 91)"
      ]
     },
     "execution_count": 100,
     "metadata": {},
     "output_type": "execute_result"
    }
   ],
   "source": [
    "ooz_strikes.shape"
   ]
  },
  {
   "cell_type": "code",
   "execution_count": 103,
   "metadata": {},
   "outputs": [],
   "source": [
    "#getting only pitches that have coordinates\n",
    "ooz_strikes = ooz_strikes[ooz_strikes['plate_x'].notnull()]"
   ]
  },
  {
   "cell_type": "code",
   "execution_count": 104,
   "metadata": {},
   "outputs": [
    {
     "data": {
      "text/plain": [
       "<matplotlib.axes._subplots.AxesSubplot at 0x7f8a73c77198>"
      ]
     },
     "execution_count": 104,
     "metadata": {},
     "output_type": "execute_result"
    },
    {
     "data": {
      "image/png": "[encoded data removed]",
      "text/plain": [
       "<Figure size 432x288 with 1 Axes>"
      ]
     },
     "metadata": {
      "needs_background": "light"
     },
     "output_type": "display_data"
    }
   ],
   "source": [
    "#making sure our octants are correct\n",
    "sns.scatterplot(ooz_strikes['plate_x'],ooz_strikes['plate_z'], hue = ooz_strikes['octant'])"
   ]
  },
  {
   "cell_type": "code",
   "execution_count": 108,
   "metadata": {},
   "outputs": [
    {
     "name": "stderr",
     "output_type": "stream",
     "text": [
      "/Users/jeremiahwilson/anaconda3/lib/python3.7/site-packages/ipykernel_launcher.py:1: SettingWithCopyWarning: \n",
      "A value is trying to be set on a copy of a slice from a DataFrame.\n",
      "Try using .loc[row_indexer,col_indexer] = value instead\n",
      "\n",
      "See the caveats in the documentation: http://pandas.pydata.org/pandas-docs/stable/indexing.html#indexing-view-versus-copy\n",
      "  \"\"\"Entry point for launching an IPython kernel.\n"
     ]
    }
   ],
   "source": [
    "ooz_strikes['distance_from_zone'] = 0"
   ]
  },
  {
   "cell_type": "code",
   "execution_count": 109,
   "metadata": {},
   "outputs": [],
   "source": [
    "#now we can start calculating the distance from the zone based on octant\n",
    "ooz_strikes.loc[ooz_strikes['octant'] == 'oct1', 'distance_from_zone'] = ooz_strikes['plate_z']-ooz_strikes['sz_top']"
   ]
  },
  {
   "cell_type": "code",
   "execution_count": 119,
   "metadata": {},
   "outputs": [],
   "source": [
    "import numpy as np\n",
    "ooz_strikes.loc[ooz_strikes['octant'] == 'oct2', 'distance_from_zone'] = np.sqrt((((ooz_strikes['plate_x']-(8.5/12))**2)+ (ooz_strikes['plate_z']- ooz_strikes['sz_top'])**2))"
   ]
  },
  {
   "cell_type": "code",
   "execution_count": 121,
   "metadata": {},
   "outputs": [],
   "source": [
    "ooz_strikes.loc[ooz_strikes['octant'] == 'oct3', 'distance_from_zone'] = ooz_strikes['plate_x'] - (8.5/12)"
   ]
  },
  {
   "cell_type": "code",
   "execution_count": 126,
   "metadata": {},
   "outputs": [],
   "source": [
    "ooz_strikes.loc[ooz_strikes['octant'] == 'oct4', 'distance_from_zone'] = np.sqrt((((ooz_strikes['plate_x']-(8.5/12))**2) + (ooz_strikes['plate_z']-ooz_strikes['sz_bot'])**2))"
   ]
  },
  {
   "cell_type": "code",
   "execution_count": 127,
   "metadata": {},
   "outputs": [],
   "source": [
    "ooz_strikes.loc[ooz_strikes['octant'] == 'oct5', 'distance_from_zone'] = ooz_strikes['sz_bot']-ooz_strikes['plate_z']"
   ]
  },
  {
   "cell_type": "code",
   "execution_count": 128,
   "metadata": {},
   "outputs": [],
   "source": [
    "ooz_strikes.loc[ooz_strikes['octant'] == 'oct6', 'distance_from_zone'] = np.sqrt((((ooz_strikes['plate_x']-(-8.5/12))**2) + (ooz_strikes['plate_z']-ooz_strikes['sz_bot'])**2))"
   ]
  },
  {
   "cell_type": "code",
   "execution_count": 129,
   "metadata": {},
   "outputs": [],
   "source": [
    "ooz_strikes.loc[ooz_strikes['octant'] == 'oct7', 'distance_from_zone'] = np.sqrt((ooz_strikes['plate_x'] - (-8.5/12))**2)"
   ]
  },
  {
   "cell_type": "code",
   "execution_count": 130,
   "metadata": {},
   "outputs": [],
   "source": [
    "ooz_strikes.loc[ooz_strikes['octant'] == 'oct8', 'distance_from_zone'] = np.sqrt((((ooz_strikes['plate_x']-(-8.5/12))**2)+ (ooz_strikes['plate_z']- ooz_strikes['sz_top'])**2))"
   ]
  },
  {
   "cell_type": "code",
   "execution_count": 134,
   "metadata": {},
   "outputs": [
    {
     "data": {
      "text/html": [
       "<div>\n",
       "<style scoped>\n",
       "    .dataframe tbody tr th:only-of-type {\n",
       "        vertical-align: middle;\n",
       "    }\n",
       "\n",
       "    .dataframe tbody tr th {\n",
       "        vertical-align: top;\n",
       "    }\n",
       "\n",
       "    .dataframe thead th {\n",
       "        text-align: right;\n",
       "    }\n",
       "</style>\n",
       "<table border=\"1\" class=\"dataframe\">\n",
       "  <thead>\n",
       "    <tr style=\"text-align: right;\">\n",
       "      <th></th>\n",
       "      <th>plate_x</th>\n",
       "      <th>plate_z</th>\n",
       "      <th>distance_from_zone</th>\n",
       "      <th>sz_top</th>\n",
       "      <th>sz_bot</th>\n",
       "    </tr>\n",
       "    <tr>\n",
       "      <th>octant</th>\n",
       "      <th></th>\n",
       "      <th></th>\n",
       "      <th></th>\n",
       "      <th></th>\n",
       "      <th></th>\n",
       "    </tr>\n",
       "  </thead>\n",
       "  <tbody>\n",
       "    <tr>\n",
       "      <th>oct1</th>\n",
       "      <td>0.227985</td>\n",
       "      <td>3.419080</td>\n",
       "      <td>0.120703</td>\n",
       "      <td>3.298377</td>\n",
       "      <td>1.541830</td>\n",
       "    </tr>\n",
       "    <tr>\n",
       "      <th>oct2</th>\n",
       "      <td>0.922755</td>\n",
       "      <td>3.130959</td>\n",
       "      <td>0.233147</td>\n",
       "      <td>3.039413</td>\n",
       "      <td>1.452196</td>\n",
       "    </tr>\n",
       "    <tr>\n",
       "      <th>oct3</th>\n",
       "      <td>0.767843</td>\n",
       "      <td>2.406421</td>\n",
       "      <td>0.059509</td>\n",
       "      <td>3.268428</td>\n",
       "      <td>1.600939</td>\n",
       "    </tr>\n",
       "    <tr>\n",
       "      <th>oct4</th>\n",
       "      <td>0.829764</td>\n",
       "      <td>1.500406</td>\n",
       "      <td>0.269375</td>\n",
       "      <td>3.517300</td>\n",
       "      <td>1.740858</td>\n",
       "    </tr>\n",
       "    <tr>\n",
       "      <th>oct5</th>\n",
       "      <td>-0.616333</td>\n",
       "      <td>1.605027</td>\n",
       "      <td>0.021979</td>\n",
       "      <td>3.529005</td>\n",
       "      <td>1.627006</td>\n",
       "    </tr>\n",
       "    <tr>\n",
       "      <th>oct6</th>\n",
       "      <td>-0.918186</td>\n",
       "      <td>1.659774</td>\n",
       "      <td>0.210551</td>\n",
       "      <td>3.553659</td>\n",
       "      <td>1.676909</td>\n",
       "    </tr>\n",
       "    <tr>\n",
       "      <th>oct7</th>\n",
       "      <td>-0.867256</td>\n",
       "      <td>2.694645</td>\n",
       "      <td>0.158923</td>\n",
       "      <td>3.663244</td>\n",
       "      <td>1.719069</td>\n",
       "    </tr>\n",
       "    <tr>\n",
       "      <th>oct8</th>\n",
       "      <td>-0.734128</td>\n",
       "      <td>3.045160</td>\n",
       "      <td>0.070207</td>\n",
       "      <td>2.979863</td>\n",
       "      <td>1.281565</td>\n",
       "    </tr>\n",
       "  </tbody>\n",
       "</table>\n",
       "</div>"
      ],
      "text/plain": [
       "         plate_x   plate_z  distance_from_zone    sz_top    sz_bot\n",
       "octant                                                            \n",
       "oct1    0.227985  3.419080            0.120703  3.298377  1.541830\n",
       "oct2    0.922755  3.130959            0.233147  3.039413  1.452196\n",
       "oct3    0.767843  2.406421            0.059509  3.268428  1.600939\n",
       "oct4    0.829764  1.500406            0.269375  3.517300  1.740858\n",
       "oct5   -0.616333  1.605027            0.021979  3.529005  1.627006\n",
       "oct6   -0.918186  1.659774            0.210551  3.553659  1.676909\n",
       "oct7   -0.867256  2.694645            0.158923  3.663244  1.719069\n",
       "oct8   -0.734128  3.045160            0.070207  2.979863  1.281565"
      ]
     },
     "execution_count": 134,
     "metadata": {},
     "output_type": "execute_result"
    }
   ],
   "source": [
    "#just checking to make sure I calculated the distances correctly\n",
    "ooz_strikes.groupby('octant').first()[['plate_x','plate_z','distance_from_zone','sz_top','sz_bot']]"
   ]
  },
  {
   "cell_type": "code",
   "execution_count": 139,
   "metadata": {},
   "outputs": [],
   "source": [
    "#grouping by catcher\n",
    "catchers = ooz_strikes.groupby('fielder_2').mean()"
   ]
  },
  {
   "cell_type": "code",
   "execution_count": 163,
   "metadata": {},
   "outputs": [],
   "source": [
    "#sorting by highest average distance from zone\n",
    "catchers = catchers.sort_values(by='distance_from_zone', ascending = False)"
   ]
  },
  {
   "cell_type": "code",
   "execution_count": 164,
   "metadata": {},
   "outputs": [
    {
     "data": {
      "text/plain": [
       "1.7022730358852034"
      ]
     },
     "execution_count": 164,
     "metadata": {},
     "output_type": "execute_result"
    }
   ],
   "source": [
    "catchers['distance_from_zone'].mean()*12"
   ]
  },
  {
   "cell_type": "code",
   "execution_count": 165,
   "metadata": {},
   "outputs": [
    {
     "name": "stdout",
     "output_type": "stream",
     "text": [
      "Gathering player lookup table. This may take a moment.\n"
     ]
    }
   ],
   "source": [
    "#looking up all the names of the catchers corresponding to their MLBID\n",
    "name_df = playerid_reverse_lookup(catchers.index, key_type='mlbam')"
   ]
  },
  {
   "cell_type": "code",
   "execution_count": 166,
   "metadata": {},
   "outputs": [],
   "source": [
    "#making a new column with their full names\n",
    "name_df['name'] = name_df['name_first']+' '+name_df['name_last']"
   ]
  },
  {
   "cell_type": "code",
   "execution_count": 167,
   "metadata": {},
   "outputs": [],
   "source": [
    "#calculating the number of stolen strikes the catcher has\n",
    "ids = catchers.index\n",
    "pitch_count = []\n",
    "for i in range(len(ids)):\n",
    "    \n",
    "    count = len(ooz_strikes.loc[ooz_strikes['fielder_2']==ids[i]])\n",
    "    \n",
    "    pitch_count.append(count)"
   ]
  },
  {
   "cell_type": "code",
   "execution_count": 187,
   "metadata": {},
   "outputs": [],
   "source": [
    "name_df = name_df.set_index('key_mlbam')"
   ]
  },
  {
   "cell_type": "code",
   "execution_count": 189,
   "metadata": {},
   "outputs": [],
   "source": [
    "name_df['distance_from_zone'] = catchers['distance_from_zone']"
   ]
  },
  {
   "cell_type": "code",
   "execution_count": 194,
   "metadata": {},
   "outputs": [],
   "source": [
    "name_df = name_df.sort_values(by='distance_from_zone', ascending = False)"
   ]
  },
  {
   "cell_type": "code",
   "execution_count": 196,
   "metadata": {},
   "outputs": [
    {
     "name": "stderr",
     "output_type": "stream",
     "text": [
      "/Users/jeremiahwilson/anaconda3/lib/python3.7/site-packages/ipykernel_launcher.py:2: SettingWithCopyWarning: \n",
      "A value is trying to be set on a copy of a slice from a DataFrame\n",
      "\n",
      "See the caveats in the documentation: http://pandas.pydata.org/pandas-docs/stable/indexing.html#indexing-view-versus-copy\n",
      "  \n"
     ]
    }
   ],
   "source": [
    "for i in range(len(name_df.index)):\n",
    "    name_df['pitch_count'][i] = len(ooz_strikes.loc[ooz_strikes['fielder_2']== name_df.index[i]])"
   ]
  },
  {
   "cell_type": "code",
   "execution_count": 211,
   "metadata": {},
   "outputs": [],
   "source": [
    "name_df = name_df.drop('pitch_count', axis=1)"
   ]
  },
  {
   "cell_type": "code",
   "execution_count": 214,
   "metadata": {},
   "outputs": [],
   "source": [
    "small_df = name_df[['name','distance_from_zone']]"
   ]
  },
  {
   "cell_type": "code",
   "execution_count": 217,
   "metadata": {},
   "outputs": [],
   "source": [
    "pitch_num = []\n",
    "for i in range(len(small_df.index)):\n",
    "    count = len(ooz_strikes.loc[ooz_strikes['fielder_2']== small_df.index[i]])\n",
    "    \n",
    "    pitch_num.append(count)"
   ]
  },
  {
   "cell_type": "code",
   "execution_count": 218,
   "metadata": {},
   "outputs": [
    {
     "name": "stderr",
     "output_type": "stream",
     "text": [
      "/Users/jeremiahwilson/anaconda3/lib/python3.7/site-packages/ipykernel_launcher.py:1: SettingWithCopyWarning: \n",
      "A value is trying to be set on a copy of a slice from a DataFrame.\n",
      "Try using .loc[row_indexer,col_indexer] = value instead\n",
      "\n",
      "See the caveats in the documentation: http://pandas.pydata.org/pandas-docs/stable/indexing.html#indexing-view-versus-copy\n",
      "  \"\"\"Entry point for launching an IPython kernel.\n"
     ]
    }
   ],
   "source": [
    "small_df['pitch_count'] = pitch_num"
   ]
  },
  {
   "cell_type": "code",
   "execution_count": 231,
   "metadata": {},
   "outputs": [],
   "source": [
    "qualified = small_df.loc[small_df['pitch_count']>=500]"
   ]
  },
  {
   "cell_type": "code",
   "execution_count": 232,
   "metadata": {},
   "outputs": [
    {
     "name": "stderr",
     "output_type": "stream",
     "text": [
      "/Users/jeremiahwilson/anaconda3/lib/python3.7/site-packages/ipykernel_launcher.py:1: SettingWithCopyWarning: \n",
      "A value is trying to be set on a copy of a slice from a DataFrame.\n",
      "Try using .loc[row_indexer,col_indexer] = value instead\n",
      "\n",
      "See the caveats in the documentation: http://pandas.pydata.org/pandas-docs/stable/indexing.html#indexing-view-versus-copy\n",
      "  \"\"\"Entry point for launching an IPython kernel.\n"
     ]
    }
   ],
   "source": [
    "qualified['distance_from_zone'] = qualified['distance_from_zone']*12"
   ]
  },
  {
   "cell_type": "code",
   "execution_count": 234,
   "metadata": {},
   "outputs": [
    {
     "data": {
      "text/plain": [
       "(34, 3)"
      ]
     },
     "execution_count": 234,
     "metadata": {},
     "output_type": "execute_result"
    }
   ],
   "source": [
    "qualified.shape"
   ]
  },
  {
   "cell_type": "code",
   "execution_count": 236,
   "metadata": {},
   "outputs": [
    {
     "data": {
      "text/html": [
       "<div>\n",
       "<style scoped>\n",
       "    .dataframe tbody tr th:only-of-type {\n",
       "        vertical-align: middle;\n",
       "    }\n",
       "\n",
       "    .dataframe tbody tr th {\n",
       "        vertical-align: top;\n",
       "    }\n",
       "\n",
       "    .dataframe thead th {\n",
       "        text-align: right;\n",
       "    }\n",
       "</style>\n",
       "<table border=\"1\" class=\"dataframe\">\n",
       "  <thead>\n",
       "    <tr style=\"text-align: right;\">\n",
       "      <th></th>\n",
       "      <th>name</th>\n",
       "      <th>distance_from_zone</th>\n",
       "      <th>pitch_count</th>\n",
       "    </tr>\n",
       "    <tr>\n",
       "      <th>key_mlbam</th>\n",
       "      <th></th>\n",
       "      <th></th>\n",
       "      <th></th>\n",
       "    </tr>\n",
       "  </thead>\n",
       "  <tbody>\n",
       "    <tr>\n",
       "      <th>595978</th>\n",
       "      <td>austin hedges</td>\n",
       "      <td>1.965924</td>\n",
       "      <td>913</td>\n",
       "    </tr>\n",
       "    <tr>\n",
       "      <th>457763</th>\n",
       "      <td>buster posey</td>\n",
       "      <td>1.891855</td>\n",
       "      <td>835</td>\n",
       "    </tr>\n",
       "    <tr>\n",
       "      <th>467092</th>\n",
       "      <td>wilson ramos</td>\n",
       "      <td>1.891685</td>\n",
       "      <td>962</td>\n",
       "    </tr>\n",
       "    <tr>\n",
       "      <th>518735</th>\n",
       "      <td>yasmani grandal</td>\n",
       "      <td>1.856082</td>\n",
       "      <td>1069</td>\n",
       "    </tr>\n",
       "    <tr>\n",
       "      <th>435263</th>\n",
       "      <td>brian mccann</td>\n",
       "      <td>1.835917</td>\n",
       "      <td>670</td>\n",
       "    </tr>\n",
       "    <tr>\n",
       "      <th>452095</th>\n",
       "      <td>tyler flowers</td>\n",
       "      <td>1.825966</td>\n",
       "      <td>714</td>\n",
       "    </tr>\n",
       "    <tr>\n",
       "      <th>575929</th>\n",
       "      <td>willson contreras</td>\n",
       "      <td>1.824694</td>\n",
       "      <td>784</td>\n",
       "    </tr>\n",
       "    <tr>\n",
       "      <th>592663</th>\n",
       "      <td>j. t. realmuto</td>\n",
       "      <td>1.824060</td>\n",
       "      <td>1089</td>\n",
       "    </tr>\n",
       "    <tr>\n",
       "      <th>571466</th>\n",
       "      <td>tucker barnhart</td>\n",
       "      <td>1.806727</td>\n",
       "      <td>670</td>\n",
       "    </tr>\n",
       "    <tr>\n",
       "      <th>543877</th>\n",
       "      <td>christian vazquez</td>\n",
       "      <td>1.802351</td>\n",
       "      <td>970</td>\n",
       "    </tr>\n",
       "    <tr>\n",
       "      <th>643376</th>\n",
       "      <td>danny jansen</td>\n",
       "      <td>1.785770</td>\n",
       "      <td>791</td>\n",
       "    </tr>\n",
       "    <tr>\n",
       "      <th>595751</th>\n",
       "      <td>jorge alfaro</td>\n",
       "      <td>1.784712</td>\n",
       "      <td>858</td>\n",
       "    </tr>\n",
       "    <tr>\n",
       "      <th>543228</th>\n",
       "      <td>yan gomes</td>\n",
       "      <td>1.782781</td>\n",
       "      <td>770</td>\n",
       "    </tr>\n",
       "    <tr>\n",
       "      <th>596142</th>\n",
       "      <td>gary sanchez</td>\n",
       "      <td>1.778976</td>\n",
       "      <td>695</td>\n",
       "    </tr>\n",
       "    <tr>\n",
       "      <th>425877</th>\n",
       "      <td>yadier molina</td>\n",
       "      <td>1.769703</td>\n",
       "      <td>890</td>\n",
       "    </tr>\n",
       "    <tr>\n",
       "      <th>547379</th>\n",
       "      <td>roberto perez</td>\n",
       "      <td>1.758093</td>\n",
       "      <td>904</td>\n",
       "    </tr>\n",
       "  </tbody>\n",
       "</table>\n",
       "</div>"
      ],
      "text/plain": [
       "                        name  distance_from_zone  pitch_count\n",
       "key_mlbam                                                    \n",
       "595978         austin hedges            1.965924          913\n",
       "457763          buster posey            1.891855          835\n",
       "467092          wilson ramos            1.891685          962\n",
       "518735       yasmani grandal            1.856082         1069\n",
       "435263          brian mccann            1.835917          670\n",
       "452095         tyler flowers            1.825966          714\n",
       "575929     willson contreras            1.824694          784\n",
       "592663        j. t. realmuto            1.824060         1089\n",
       "571466       tucker barnhart            1.806727          670\n",
       "543877     christian vazquez            1.802351          970\n",
       "643376          danny jansen            1.785770          791\n",
       "595751          jorge alfaro            1.784712          858\n",
       "543228             yan gomes            1.782781          770\n",
       "596142          gary sanchez            1.778976          695\n",
       "425877         yadier molina            1.769703          890\n",
       "547379         roberto perez            1.758093          904"
      ]
     },
     "execution_count": 236,
     "metadata": {},
     "output_type": "execute_result"
    }
   ],
   "source": [
    "qualified[0:16]"
   ]
  },
  {
   "cell_type": "code",
   "execution_count": 237,
   "metadata": {},
   "outputs": [],
   "source": [
    "hedges = ooz_strikes.loc[ooz_strikes['fielder_2']==595978]"
   ]
  },
  {
   "cell_type": "code",
   "execution_count": 247,
   "metadata": {},
   "outputs": [
    {
     "data": {
      "text/plain": [
       "array([nan, 'strikeout', 'caught_stealing_2b'], dtype=object)"
      ]
     },
     "execution_count": 247,
     "metadata": {},
     "output_type": "execute_result"
    }
   ],
   "source": [
    "hedges.events.unique()"
   ]
  },
  {
   "cell_type": "code",
   "execution_count": 250,
   "metadata": {},
   "outputs": [
    {
     "data": {
      "text/html": [
       "<div>\n",
       "<style scoped>\n",
       "    .dataframe tbody tr th:only-of-type {\n",
       "        vertical-align: middle;\n",
       "    }\n",
       "\n",
       "    .dataframe tbody tr th {\n",
       "        vertical-align: top;\n",
       "    }\n",
       "\n",
       "    .dataframe thead th {\n",
       "        text-align: right;\n",
       "    }\n",
       "</style>\n",
       "<table border=\"1\" class=\"dataframe\">\n",
       "  <thead>\n",
       "    <tr style=\"text-align: right;\">\n",
       "      <th></th>\n",
       "      <th>index</th>\n",
       "      <th>release_speed</th>\n",
       "      <th>release_pos_x</th>\n",
       "      <th>release_pos_z</th>\n",
       "      <th>batter</th>\n",
       "      <th>pitcher</th>\n",
       "      <th>spin_dir</th>\n",
       "      <th>spin_rate_deprecated</th>\n",
       "      <th>break_angle_deprecated</th>\n",
       "      <th>break_length_deprecated</th>\n",
       "      <th>...</th>\n",
       "      <th>pitch_number</th>\n",
       "      <th>home_score</th>\n",
       "      <th>away_score</th>\n",
       "      <th>bat_score</th>\n",
       "      <th>fld_score</th>\n",
       "      <th>post_away_score</th>\n",
       "      <th>post_home_score</th>\n",
       "      <th>post_bat_score</th>\n",
       "      <th>post_fld_score</th>\n",
       "      <th>distance_from_zone</th>\n",
       "    </tr>\n",
       "    <tr>\n",
       "      <th>octant</th>\n",
       "      <th></th>\n",
       "      <th></th>\n",
       "      <th></th>\n",
       "      <th></th>\n",
       "      <th></th>\n",
       "      <th></th>\n",
       "      <th></th>\n",
       "      <th></th>\n",
       "      <th></th>\n",
       "      <th></th>\n",
       "      <th></th>\n",
       "      <th></th>\n",
       "      <th></th>\n",
       "      <th></th>\n",
       "      <th></th>\n",
       "      <th></th>\n",
       "      <th></th>\n",
       "      <th></th>\n",
       "      <th></th>\n",
       "      <th></th>\n",
       "      <th></th>\n",
       "    </tr>\n",
       "  </thead>\n",
       "  <tbody>\n",
       "    <tr>\n",
       "      <th>oct1</th>\n",
       "      <td>11948.168831</td>\n",
       "      <td>87.688312</td>\n",
       "      <td>-0.070751</td>\n",
       "      <td>6.066806</td>\n",
       "      <td>570799.532468</td>\n",
       "      <td>636105.935065</td>\n",
       "      <td>NaN</td>\n",
       "      <td>NaN</td>\n",
       "      <td>NaN</td>\n",
       "      <td>NaN</td>\n",
       "      <td>...</td>\n",
       "      <td>2.623377</td>\n",
       "      <td>2.389610</td>\n",
       "      <td>2.363636</td>\n",
       "      <td>2.116883</td>\n",
       "      <td>2.636364</td>\n",
       "      <td>2.363636</td>\n",
       "      <td>2.389610</td>\n",
       "      <td>2.116883</td>\n",
       "      <td>2.636364</td>\n",
       "      <td>0.142557</td>\n",
       "    </tr>\n",
       "    <tr>\n",
       "      <th>oct2</th>\n",
       "      <td>6298.800000</td>\n",
       "      <td>89.120000</td>\n",
       "      <td>0.466667</td>\n",
       "      <td>6.205367</td>\n",
       "      <td>554276.800000</td>\n",
       "      <td>663211.800000</td>\n",
       "      <td>NaN</td>\n",
       "      <td>NaN</td>\n",
       "      <td>NaN</td>\n",
       "      <td>NaN</td>\n",
       "      <td>...</td>\n",
       "      <td>1.400000</td>\n",
       "      <td>2.400000</td>\n",
       "      <td>2.400000</td>\n",
       "      <td>2.400000</td>\n",
       "      <td>2.400000</td>\n",
       "      <td>2.400000</td>\n",
       "      <td>2.400000</td>\n",
       "      <td>2.400000</td>\n",
       "      <td>2.400000</td>\n",
       "      <td>0.157845</td>\n",
       "    </tr>\n",
       "    <tr>\n",
       "      <th>oct3</th>\n",
       "      <td>11518.969880</td>\n",
       "      <td>89.143072</td>\n",
       "      <td>-0.299334</td>\n",
       "      <td>6.007923</td>\n",
       "      <td>566727.280120</td>\n",
       "      <td>615753.448795</td>\n",
       "      <td>NaN</td>\n",
       "      <td>NaN</td>\n",
       "      <td>NaN</td>\n",
       "      <td>NaN</td>\n",
       "      <td>...</td>\n",
       "      <td>2.165663</td>\n",
       "      <td>2.509036</td>\n",
       "      <td>2.213855</td>\n",
       "      <td>2.358434</td>\n",
       "      <td>2.364458</td>\n",
       "      <td>2.213855</td>\n",
       "      <td>2.509036</td>\n",
       "      <td>2.358434</td>\n",
       "      <td>2.364458</td>\n",
       "      <td>0.178244</td>\n",
       "    </tr>\n",
       "    <tr>\n",
       "      <th>oct4</th>\n",
       "      <td>10022.740741</td>\n",
       "      <td>86.833333</td>\n",
       "      <td>-0.780238</td>\n",
       "      <td>5.810106</td>\n",
       "      <td>544101.074074</td>\n",
       "      <td>593294.000000</td>\n",
       "      <td>NaN</td>\n",
       "      <td>NaN</td>\n",
       "      <td>NaN</td>\n",
       "      <td>NaN</td>\n",
       "      <td>...</td>\n",
       "      <td>2.074074</td>\n",
       "      <td>3.111111</td>\n",
       "      <td>2.518519</td>\n",
       "      <td>2.703704</td>\n",
       "      <td>2.925926</td>\n",
       "      <td>2.518519</td>\n",
       "      <td>3.111111</td>\n",
       "      <td>2.703704</td>\n",
       "      <td>2.925926</td>\n",
       "      <td>0.185796</td>\n",
       "    </tr>\n",
       "    <tr>\n",
       "      <th>oct5</th>\n",
       "      <td>12299.138298</td>\n",
       "      <td>88.004255</td>\n",
       "      <td>-0.276528</td>\n",
       "      <td>6.011066</td>\n",
       "      <td>555425.718085</td>\n",
       "      <td>614189.579787</td>\n",
       "      <td>NaN</td>\n",
       "      <td>NaN</td>\n",
       "      <td>NaN</td>\n",
       "      <td>NaN</td>\n",
       "      <td>...</td>\n",
       "      <td>2.265957</td>\n",
       "      <td>2.202128</td>\n",
       "      <td>2.175532</td>\n",
       "      <td>2.090426</td>\n",
       "      <td>2.287234</td>\n",
       "      <td>2.175532</td>\n",
       "      <td>2.202128</td>\n",
       "      <td>2.090426</td>\n",
       "      <td>2.287234</td>\n",
       "      <td>0.140238</td>\n",
       "    </tr>\n",
       "    <tr>\n",
       "      <th>oct6</th>\n",
       "      <td>12540.285714</td>\n",
       "      <td>88.700000</td>\n",
       "      <td>-0.304845</td>\n",
       "      <td>5.721180</td>\n",
       "      <td>557908.380952</td>\n",
       "      <td>604835.476190</td>\n",
       "      <td>NaN</td>\n",
       "      <td>NaN</td>\n",
       "      <td>NaN</td>\n",
       "      <td>NaN</td>\n",
       "      <td>...</td>\n",
       "      <td>2.714286</td>\n",
       "      <td>2.666667</td>\n",
       "      <td>1.714286</td>\n",
       "      <td>2.095238</td>\n",
       "      <td>2.285714</td>\n",
       "      <td>1.714286</td>\n",
       "      <td>2.666667</td>\n",
       "      <td>2.095238</td>\n",
       "      <td>2.285714</td>\n",
       "      <td>0.247197</td>\n",
       "    </tr>\n",
       "    <tr>\n",
       "      <th>oct7</th>\n",
       "      <td>11825.934109</td>\n",
       "      <td>89.963178</td>\n",
       "      <td>-0.337180</td>\n",
       "      <td>5.920235</td>\n",
       "      <td>558341.980620</td>\n",
       "      <td>614008.790698</td>\n",
       "      <td>NaN</td>\n",
       "      <td>NaN</td>\n",
       "      <td>NaN</td>\n",
       "      <td>NaN</td>\n",
       "      <td>...</td>\n",
       "      <td>2.302326</td>\n",
       "      <td>2.581395</td>\n",
       "      <td>2.186047</td>\n",
       "      <td>2.205426</td>\n",
       "      <td>2.562016</td>\n",
       "      <td>2.186047</td>\n",
       "      <td>2.581395</td>\n",
       "      <td>2.205426</td>\n",
       "      <td>2.562016</td>\n",
       "      <td>0.159477</td>\n",
       "    </tr>\n",
       "    <tr>\n",
       "      <th>oct8</th>\n",
       "      <td>9500.600000</td>\n",
       "      <td>92.960000</td>\n",
       "      <td>-1.429421</td>\n",
       "      <td>6.242147</td>\n",
       "      <td>566634.200000</td>\n",
       "      <td>644574.800000</td>\n",
       "      <td>NaN</td>\n",
       "      <td>NaN</td>\n",
       "      <td>NaN</td>\n",
       "      <td>NaN</td>\n",
       "      <td>...</td>\n",
       "      <td>2.200000</td>\n",
       "      <td>1.000000</td>\n",
       "      <td>1.200000</td>\n",
       "      <td>1.400000</td>\n",
       "      <td>0.800000</td>\n",
       "      <td>1.200000</td>\n",
       "      <td>1.000000</td>\n",
       "      <td>1.400000</td>\n",
       "      <td>0.800000</td>\n",
       "      <td>0.182736</td>\n",
       "    </tr>\n",
       "  </tbody>\n",
       "</table>\n",
       "<p>8 rows × 73 columns</p>\n",
       "</div>"
      ],
      "text/plain": [
       "               index  release_speed  release_pos_x  release_pos_z  \\\n",
       "octant                                                              \n",
       "oct1    11948.168831      87.688312      -0.070751       6.066806   \n",
       "oct2     6298.800000      89.120000       0.466667       6.205367   \n",
       "oct3    11518.969880      89.143072      -0.299334       6.007923   \n",
       "oct4    10022.740741      86.833333      -0.780238       5.810106   \n",
       "oct5    12299.138298      88.004255      -0.276528       6.011066   \n",
       "oct6    12540.285714      88.700000      -0.304845       5.721180   \n",
       "oct7    11825.934109      89.963178      -0.337180       5.920235   \n",
       "oct8     9500.600000      92.960000      -1.429421       6.242147   \n",
       "\n",
       "               batter        pitcher  spin_dir  spin_rate_deprecated  \\\n",
       "octant                                                                 \n",
       "oct1    570799.532468  636105.935065       NaN                   NaN   \n",
       "oct2    554276.800000  663211.800000       NaN                   NaN   \n",
       "oct3    566727.280120  615753.448795       NaN                   NaN   \n",
       "oct4    544101.074074  593294.000000       NaN                   NaN   \n",
       "oct5    555425.718085  614189.579787       NaN                   NaN   \n",
       "oct6    557908.380952  604835.476190       NaN                   NaN   \n",
       "oct7    558341.980620  614008.790698       NaN                   NaN   \n",
       "oct8    566634.200000  644574.800000       NaN                   NaN   \n",
       "\n",
       "        break_angle_deprecated  break_length_deprecated  ...  pitch_number  \\\n",
       "octant                                                   ...                 \n",
       "oct1                       NaN                      NaN  ...      2.623377   \n",
       "oct2                       NaN                      NaN  ...      1.400000   \n",
       "oct3                       NaN                      NaN  ...      2.165663   \n",
       "oct4                       NaN                      NaN  ...      2.074074   \n",
       "oct5                       NaN                      NaN  ...      2.265957   \n",
       "oct6                       NaN                      NaN  ...      2.714286   \n",
       "oct7                       NaN                      NaN  ...      2.302326   \n",
       "oct8                       NaN                      NaN  ...      2.200000   \n",
       "\n",
       "        home_score  away_score  bat_score  fld_score  post_away_score  \\\n",
       "octant                                                                  \n",
       "oct1      2.389610    2.363636   2.116883   2.636364         2.363636   \n",
       "oct2      2.400000    2.400000   2.400000   2.400000         2.400000   \n",
       "oct3      2.509036    2.213855   2.358434   2.364458         2.213855   \n",
       "oct4      3.111111    2.518519   2.703704   2.925926         2.518519   \n",
       "oct5      2.202128    2.175532   2.090426   2.287234         2.175532   \n",
       "oct6      2.666667    1.714286   2.095238   2.285714         1.714286   \n",
       "oct7      2.581395    2.186047   2.205426   2.562016         2.186047   \n",
       "oct8      1.000000    1.200000   1.400000   0.800000         1.200000   \n",
       "\n",
       "        post_home_score  post_bat_score  post_fld_score  distance_from_zone  \n",
       "octant                                                                       \n",
       "oct1           2.389610        2.116883        2.636364            0.142557  \n",
       "oct2           2.400000        2.400000        2.400000            0.157845  \n",
       "oct3           2.509036        2.358434        2.364458            0.178244  \n",
       "oct4           3.111111        2.703704        2.925926            0.185796  \n",
       "oct5           2.202128        2.090426        2.287234            0.140238  \n",
       "oct6           2.666667        2.095238        2.285714            0.247197  \n",
       "oct7           2.581395        2.205426        2.562016            0.159477  \n",
       "oct8           1.000000        1.400000        0.800000            0.182736  \n",
       "\n",
       "[8 rows x 73 columns]"
      ]
     },
     "execution_count": 250,
     "metadata": {},
     "output_type": "execute_result"
    }
   ],
   "source": [
    "hedges.groupby('octant').mean()"
   ]
  },
  {
   "cell_type": "code",
   "execution_count": 251,
   "metadata": {},
   "outputs": [],
   "source": [
    "no_swing = data.loc[(data['description']== 'ball') | (data['description']== 'called_strike')]"
   ]
  },
  {
   "cell_type": "code",
   "execution_count": 252,
   "metadata": {},
   "outputs": [
    {
     "data": {
      "text/plain": [
       "(367896, 90)"
      ]
     },
     "execution_count": 252,
     "metadata": {},
     "output_type": "execute_result"
    }
   ],
   "source": [
    "no_swing.shape"
   ]
  },
  {
   "cell_type": "code",
   "execution_count": 254,
   "metadata": {},
   "outputs": [],
   "source": [
    "no_swing = no_swing[no_swing['plate_x'].notnull()]\n",
    "no_swing['octant'] = 'oct0'\n",
    "no_swing.loc[(no_swing['plate_z'] > no_swing['sz_top']) & \n",
    "                ((no_swing['plate_x'] <= 8.5/12) & (no_swing['plate_x'] >= (-8.5/12))), 'octant'] = 'oct1'"
   ]
  },
  {
   "cell_type": "code",
   "execution_count": 255,
   "metadata": {},
   "outputs": [],
   "source": [
    "no_swing.loc[(no_swing['plate_z'] > no_swing['sz_top']) & \n",
    "                ((no_swing['plate_x'] > 8.5/12)), 'octant'] = 'oct2'\n"
   ]
  },
  {
   "cell_type": "code",
   "execution_count": 256,
   "metadata": {},
   "outputs": [],
   "source": [
    "no_swing.loc[((no_swing['plate_z'] <= no_swing['sz_top']) & \n",
    "                 (no_swing['plate_z'] >= no_swing['sz_bot'])) & \n",
    "                ((no_swing['plate_x'] > 8.5/12)), 'octant'] = 'oct3'"
   ]
  },
  {
   "cell_type": "code",
   "execution_count": 257,
   "metadata": {},
   "outputs": [],
   "source": [
    "no_swing.loc[(no_swing['plate_z'] < no_swing['sz_bot']) & \n",
    "                ((no_swing['plate_x'] > 8.5/12)), 'octant'] = 'oct4'"
   ]
  },
  {
   "cell_type": "code",
   "execution_count": 258,
   "metadata": {},
   "outputs": [],
   "source": [
    "no_swing.loc[(no_swing['plate_z'] < no_swing['sz_bot']) & \n",
    "                ((no_swing['plate_x'] <= 8.5/12) & (no_swing['plate_x'] >= (-8.5/12))), 'octant'] = 'oct5'"
   ]
  },
  {
   "cell_type": "code",
   "execution_count": 259,
   "metadata": {},
   "outputs": [],
   "source": [
    "no_swing.loc[(no_swing['plate_z'] < no_swing['sz_bot']) & \n",
    "                ((no_swing['plate_x'] < (-8.5/12))), 'octant'] = 'oct6'"
   ]
  },
  {
   "cell_type": "code",
   "execution_count": 260,
   "metadata": {},
   "outputs": [],
   "source": [
    "no_swing.loc[((no_swing['plate_z'] <= no_swing['sz_top']) & \n",
    "                 (no_swing['plate_z'] >= no_swing['sz_bot'])) & \n",
    "                ((no_swing['plate_x'] < (-8.5/12))), 'octant'] = 'oct7'"
   ]
  },
  {
   "cell_type": "code",
   "execution_count": 261,
   "metadata": {},
   "outputs": [],
   "source": [
    "no_swing.loc[(no_swing['plate_z'] > no_swing['sz_top']) & \n",
    "                ((no_swing['plate_x'] < (-8.5/12))), 'octant'] = 'oct8'"
   ]
  },
  {
   "cell_type": "code",
   "execution_count": 274,
   "metadata": {},
   "outputs": [],
   "source": [
    "oct0 = no_swing.loc[no_swing['octant']=='oct0']"
   ]
  },
  {
   "cell_type": "code",
   "execution_count": 277,
   "metadata": {},
   "outputs": [
    {
     "data": {
      "text/plain": [
       "(84706, 91)"
      ]
     },
     "execution_count": 277,
     "metadata": {},
     "output_type": "execute_result"
    }
   ],
   "source": [
    "oct0.shape"
   ]
  },
  {
   "cell_type": "code",
   "execution_count": 279,
   "metadata": {},
   "outputs": [
    {
     "data": {
      "text/html": [
       "<div>\n",
       "<style scoped>\n",
       "    .dataframe tbody tr th:only-of-type {\n",
       "        vertical-align: middle;\n",
       "    }\n",
       "\n",
       "    .dataframe tbody tr th {\n",
       "        vertical-align: top;\n",
       "    }\n",
       "\n",
       "    .dataframe thead th {\n",
       "        text-align: right;\n",
       "    }\n",
       "</style>\n",
       "<table border=\"1\" class=\"dataframe\">\n",
       "  <thead>\n",
       "    <tr style=\"text-align: right;\">\n",
       "      <th></th>\n",
       "      <th>index</th>\n",
       "      <th>pitch_type</th>\n",
       "      <th>game_date</th>\n",
       "      <th>release_speed</th>\n",
       "      <th>release_pos_x</th>\n",
       "      <th>release_pos_z</th>\n",
       "      <th>player_name</th>\n",
       "      <th>batter</th>\n",
       "      <th>pitcher</th>\n",
       "      <th>events</th>\n",
       "      <th>...</th>\n",
       "      <th>home_score</th>\n",
       "      <th>away_score</th>\n",
       "      <th>bat_score</th>\n",
       "      <th>fld_score</th>\n",
       "      <th>post_away_score</th>\n",
       "      <th>post_home_score</th>\n",
       "      <th>post_bat_score</th>\n",
       "      <th>post_fld_score</th>\n",
       "      <th>if_fielding_alignment</th>\n",
       "      <th>of_fielding_alignment</th>\n",
       "    </tr>\n",
       "    <tr>\n",
       "      <th>octant</th>\n",
       "      <th></th>\n",
       "      <th></th>\n",
       "      <th></th>\n",
       "      <th></th>\n",
       "      <th></th>\n",
       "      <th></th>\n",
       "      <th></th>\n",
       "      <th></th>\n",
       "      <th></th>\n",
       "      <th></th>\n",
       "      <th></th>\n",
       "      <th></th>\n",
       "      <th></th>\n",
       "      <th></th>\n",
       "      <th></th>\n",
       "      <th></th>\n",
       "      <th></th>\n",
       "      <th></th>\n",
       "      <th></th>\n",
       "      <th></th>\n",
       "      <th></th>\n",
       "    </tr>\n",
       "  </thead>\n",
       "  <tbody>\n",
       "    <tr>\n",
       "      <th>oct0</th>\n",
       "      <td>84706</td>\n",
       "      <td>84704</td>\n",
       "      <td>84706</td>\n",
       "      <td>84706</td>\n",
       "      <td>84706</td>\n",
       "      <td>84706</td>\n",
       "      <td>84706</td>\n",
       "      <td>84706</td>\n",
       "      <td>84706</td>\n",
       "      <td>5638</td>\n",
       "      <td>...</td>\n",
       "      <td>84705</td>\n",
       "      <td>84705</td>\n",
       "      <td>84705</td>\n",
       "      <td>84705</td>\n",
       "      <td>84705</td>\n",
       "      <td>84705</td>\n",
       "      <td>84705</td>\n",
       "      <td>84705</td>\n",
       "      <td>84641</td>\n",
       "      <td>84641</td>\n",
       "    </tr>\n",
       "    <tr>\n",
       "      <th>oct1</th>\n",
       "      <td>32718</td>\n",
       "      <td>32715</td>\n",
       "      <td>32718</td>\n",
       "      <td>32718</td>\n",
       "      <td>32718</td>\n",
       "      <td>32718</td>\n",
       "      <td>32718</td>\n",
       "      <td>32718</td>\n",
       "      <td>32718</td>\n",
       "      <td>2162</td>\n",
       "      <td>...</td>\n",
       "      <td>32718</td>\n",
       "      <td>32718</td>\n",
       "      <td>32718</td>\n",
       "      <td>32718</td>\n",
       "      <td>32718</td>\n",
       "      <td>32718</td>\n",
       "      <td>32718</td>\n",
       "      <td>32718</td>\n",
       "      <td>32699</td>\n",
       "      <td>32699</td>\n",
       "    </tr>\n",
       "    <tr>\n",
       "      <th>oct2</th>\n",
       "      <td>10889</td>\n",
       "      <td>10889</td>\n",
       "      <td>10889</td>\n",
       "      <td>10889</td>\n",
       "      <td>10889</td>\n",
       "      <td>10889</td>\n",
       "      <td>10889</td>\n",
       "      <td>10889</td>\n",
       "      <td>10889</td>\n",
       "      <td>649</td>\n",
       "      <td>...</td>\n",
       "      <td>10889</td>\n",
       "      <td>10889</td>\n",
       "      <td>10889</td>\n",
       "      <td>10889</td>\n",
       "      <td>10889</td>\n",
       "      <td>10889</td>\n",
       "      <td>10889</td>\n",
       "      <td>10889</td>\n",
       "      <td>10888</td>\n",
       "      <td>10888</td>\n",
       "    </tr>\n",
       "    <tr>\n",
       "      <th>oct3</th>\n",
       "      <td>57508</td>\n",
       "      <td>57505</td>\n",
       "      <td>57508</td>\n",
       "      <td>57508</td>\n",
       "      <td>57508</td>\n",
       "      <td>57508</td>\n",
       "      <td>57508</td>\n",
       "      <td>57508</td>\n",
       "      <td>57508</td>\n",
       "      <td>4248</td>\n",
       "      <td>...</td>\n",
       "      <td>57508</td>\n",
       "      <td>57508</td>\n",
       "      <td>57508</td>\n",
       "      <td>57508</td>\n",
       "      <td>57508</td>\n",
       "      <td>57508</td>\n",
       "      <td>57508</td>\n",
       "      <td>57508</td>\n",
       "      <td>57472</td>\n",
       "      <td>57472</td>\n",
       "    </tr>\n",
       "    <tr>\n",
       "      <th>oct4</th>\n",
       "      <td>36955</td>\n",
       "      <td>36954</td>\n",
       "      <td>36955</td>\n",
       "      <td>36955</td>\n",
       "      <td>36955</td>\n",
       "      <td>36955</td>\n",
       "      <td>36955</td>\n",
       "      <td>36955</td>\n",
       "      <td>36955</td>\n",
       "      <td>1681</td>\n",
       "      <td>...</td>\n",
       "      <td>36955</td>\n",
       "      <td>36955</td>\n",
       "      <td>36955</td>\n",
       "      <td>36955</td>\n",
       "      <td>36955</td>\n",
       "      <td>36955</td>\n",
       "      <td>36955</td>\n",
       "      <td>36955</td>\n",
       "      <td>36930</td>\n",
       "      <td>36930</td>\n",
       "    </tr>\n",
       "    <tr>\n",
       "      <th>oct5</th>\n",
       "      <td>48094</td>\n",
       "      <td>48091</td>\n",
       "      <td>48094</td>\n",
       "      <td>48094</td>\n",
       "      <td>48094</td>\n",
       "      <td>48094</td>\n",
       "      <td>48094</td>\n",
       "      <td>48094</td>\n",
       "      <td>48094</td>\n",
       "      <td>2861</td>\n",
       "      <td>...</td>\n",
       "      <td>48094</td>\n",
       "      <td>48094</td>\n",
       "      <td>48094</td>\n",
       "      <td>48094</td>\n",
       "      <td>48094</td>\n",
       "      <td>48094</td>\n",
       "      <td>48094</td>\n",
       "      <td>48094</td>\n",
       "      <td>48062</td>\n",
       "      <td>48062</td>\n",
       "    </tr>\n",
       "    <tr>\n",
       "      <th>oct6</th>\n",
       "      <td>18261</td>\n",
       "      <td>18261</td>\n",
       "      <td>18261</td>\n",
       "      <td>18261</td>\n",
       "      <td>18261</td>\n",
       "      <td>18261</td>\n",
       "      <td>18261</td>\n",
       "      <td>18261</td>\n",
       "      <td>18261</td>\n",
       "      <td>876</td>\n",
       "      <td>...</td>\n",
       "      <td>18261</td>\n",
       "      <td>18261</td>\n",
       "      <td>18261</td>\n",
       "      <td>18261</td>\n",
       "      <td>18261</td>\n",
       "      <td>18261</td>\n",
       "      <td>18261</td>\n",
       "      <td>18261</td>\n",
       "      <td>18255</td>\n",
       "      <td>18255</td>\n",
       "    </tr>\n",
       "    <tr>\n",
       "      <th>oct7</th>\n",
       "      <td>57248</td>\n",
       "      <td>57246</td>\n",
       "      <td>57248</td>\n",
       "      <td>57248</td>\n",
       "      <td>57248</td>\n",
       "      <td>57248</td>\n",
       "      <td>57248</td>\n",
       "      <td>57248</td>\n",
       "      <td>57248</td>\n",
       "      <td>4262</td>\n",
       "      <td>...</td>\n",
       "      <td>57248</td>\n",
       "      <td>57248</td>\n",
       "      <td>57248</td>\n",
       "      <td>57248</td>\n",
       "      <td>57248</td>\n",
       "      <td>57248</td>\n",
       "      <td>57248</td>\n",
       "      <td>57248</td>\n",
       "      <td>57196</td>\n",
       "      <td>57196</td>\n",
       "    </tr>\n",
       "    <tr>\n",
       "      <th>oct8</th>\n",
       "      <td>18642</td>\n",
       "      <td>18642</td>\n",
       "      <td>18642</td>\n",
       "      <td>18642</td>\n",
       "      <td>18642</td>\n",
       "      <td>18642</td>\n",
       "      <td>18642</td>\n",
       "      <td>18642</td>\n",
       "      <td>18642</td>\n",
       "      <td>1289</td>\n",
       "      <td>...</td>\n",
       "      <td>18642</td>\n",
       "      <td>18642</td>\n",
       "      <td>18642</td>\n",
       "      <td>18642</td>\n",
       "      <td>18642</td>\n",
       "      <td>18642</td>\n",
       "      <td>18642</td>\n",
       "      <td>18642</td>\n",
       "      <td>18623</td>\n",
       "      <td>18623</td>\n",
       "    </tr>\n",
       "  </tbody>\n",
       "</table>\n",
       "<p>9 rows × 90 columns</p>\n",
       "</div>"
      ],
      "text/plain": [
       "        index  pitch_type  game_date  release_speed  release_pos_x  \\\n",
       "octant                                                               \n",
       "oct0    84706       84704      84706          84706          84706   \n",
       "oct1    32718       32715      32718          32718          32718   \n",
       "oct2    10889       10889      10889          10889          10889   \n",
       "oct3    57508       57505      57508          57508          57508   \n",
       "oct4    36955       36954      36955          36955          36955   \n",
       "oct5    48094       48091      48094          48094          48094   \n",
       "oct6    18261       18261      18261          18261          18261   \n",
       "oct7    57248       57246      57248          57248          57248   \n",
       "oct8    18642       18642      18642          18642          18642   \n",
       "\n",
       "        release_pos_z  player_name  batter  pitcher  events  ...  home_score  \\\n",
       "octant                                                       ...               \n",
       "oct0            84706        84706   84706    84706    5638  ...       84705   \n",
       "oct1            32718        32718   32718    32718    2162  ...       32718   \n",
       "oct2            10889        10889   10889    10889     649  ...       10889   \n",
       "oct3            57508        57508   57508    57508    4248  ...       57508   \n",
       "oct4            36955        36955   36955    36955    1681  ...       36955   \n",
       "oct5            48094        48094   48094    48094    2861  ...       48094   \n",
       "oct6            18261        18261   18261    18261     876  ...       18261   \n",
       "oct7            57248        57248   57248    57248    4262  ...       57248   \n",
       "oct8            18642        18642   18642    18642    1289  ...       18642   \n",
       "\n",
       "        away_score  bat_score  fld_score  post_away_score  post_home_score  \\\n",
       "octant                                                                       \n",
       "oct0         84705      84705      84705            84705            84705   \n",
       "oct1         32718      32718      32718            32718            32718   \n",
       "oct2         10889      10889      10889            10889            10889   \n",
       "oct3         57508      57508      57508            57508            57508   \n",
       "oct4         36955      36955      36955            36955            36955   \n",
       "oct5         48094      48094      48094            48094            48094   \n",
       "oct6         18261      18261      18261            18261            18261   \n",
       "oct7         57248      57248      57248            57248            57248   \n",
       "oct8         18642      18642      18642            18642            18642   \n",
       "\n",
       "        post_bat_score  post_fld_score  if_fielding_alignment  \\\n",
       "octant                                                          \n",
       "oct0             84705           84705                  84641   \n",
       "oct1             32718           32718                  32699   \n",
       "oct2             10889           10889                  10888   \n",
       "oct3             57508           57508                  57472   \n",
       "oct4             36955           36955                  36930   \n",
       "oct5             48094           48094                  48062   \n",
       "oct6             18261           18261                  18255   \n",
       "oct7             57248           57248                  57196   \n",
       "oct8             18642           18642                  18623   \n",
       "\n",
       "        of_fielding_alignment  \n",
       "octant                         \n",
       "oct0                    84641  \n",
       "oct1                    32699  \n",
       "oct2                    10888  \n",
       "oct3                    57472  \n",
       "oct4                    36930  \n",
       "oct5                    48062  \n",
       "oct6                    18255  \n",
       "oct7                    57196  \n",
       "oct8                    18623  \n",
       "\n",
       "[9 rows x 90 columns]"
      ]
     },
     "execution_count": 279,
     "metadata": {},
     "output_type": "execute_result"
    }
   ],
   "source": [
    "no_swing.groupby('octant').count()"
   ]
  },
  {
   "cell_type": "code",
   "execution_count": 281,
   "metadata": {},
   "outputs": [
    {
     "data": {
      "text/html": [
       "<div>\n",
       "<style scoped>\n",
       "    .dataframe tbody tr th:only-of-type {\n",
       "        vertical-align: middle;\n",
       "    }\n",
       "\n",
       "    .dataframe tbody tr th {\n",
       "        vertical-align: top;\n",
       "    }\n",
       "\n",
       "    .dataframe thead th {\n",
       "        text-align: right;\n",
       "    }\n",
       "</style>\n",
       "<table border=\"1\" class=\"dataframe\">\n",
       "  <thead>\n",
       "    <tr style=\"text-align: right;\">\n",
       "      <th></th>\n",
       "      <th>index</th>\n",
       "      <th>pitch_type</th>\n",
       "      <th>game_date</th>\n",
       "      <th>release_speed</th>\n",
       "      <th>release_pos_x</th>\n",
       "      <th>release_pos_z</th>\n",
       "      <th>player_name</th>\n",
       "      <th>batter</th>\n",
       "      <th>pitcher</th>\n",
       "      <th>events</th>\n",
       "      <th>...</th>\n",
       "      <th>away_score</th>\n",
       "      <th>bat_score</th>\n",
       "      <th>fld_score</th>\n",
       "      <th>post_away_score</th>\n",
       "      <th>post_home_score</th>\n",
       "      <th>post_bat_score</th>\n",
       "      <th>post_fld_score</th>\n",
       "      <th>if_fielding_alignment</th>\n",
       "      <th>of_fielding_alignment</th>\n",
       "      <th>octant</th>\n",
       "    </tr>\n",
       "    <tr>\n",
       "      <th>description</th>\n",
       "      <th></th>\n",
       "      <th></th>\n",
       "      <th></th>\n",
       "      <th></th>\n",
       "      <th></th>\n",
       "      <th></th>\n",
       "      <th></th>\n",
       "      <th></th>\n",
       "      <th></th>\n",
       "      <th></th>\n",
       "      <th></th>\n",
       "      <th></th>\n",
       "      <th></th>\n",
       "      <th></th>\n",
       "      <th></th>\n",
       "      <th></th>\n",
       "      <th></th>\n",
       "      <th></th>\n",
       "      <th></th>\n",
       "      <th></th>\n",
       "      <th></th>\n",
       "    </tr>\n",
       "  </thead>\n",
       "  <tbody>\n",
       "    <tr>\n",
       "      <th>ball</th>\n",
       "      <td>245084</td>\n",
       "      <td>245077</td>\n",
       "      <td>245084</td>\n",
       "      <td>245084</td>\n",
       "      <td>245084</td>\n",
       "      <td>245084</td>\n",
       "      <td>245084</td>\n",
       "      <td>245084</td>\n",
       "      <td>245084</td>\n",
       "      <td>13993</td>\n",
       "      <td>...</td>\n",
       "      <td>245084</td>\n",
       "      <td>245084</td>\n",
       "      <td>245084</td>\n",
       "      <td>245084</td>\n",
       "      <td>245084</td>\n",
       "      <td>245084</td>\n",
       "      <td>245084</td>\n",
       "      <td>244914</td>\n",
       "      <td>244914</td>\n",
       "      <td>245084</td>\n",
       "    </tr>\n",
       "    <tr>\n",
       "      <th>called_strike</th>\n",
       "      <td>119937</td>\n",
       "      <td>119930</td>\n",
       "      <td>119937</td>\n",
       "      <td>119937</td>\n",
       "      <td>119937</td>\n",
       "      <td>119937</td>\n",
       "      <td>119937</td>\n",
       "      <td>119937</td>\n",
       "      <td>119937</td>\n",
       "      <td>9673</td>\n",
       "      <td>...</td>\n",
       "      <td>119936</td>\n",
       "      <td>119936</td>\n",
       "      <td>119936</td>\n",
       "      <td>119936</td>\n",
       "      <td>119936</td>\n",
       "      <td>119936</td>\n",
       "      <td>119936</td>\n",
       "      <td>119852</td>\n",
       "      <td>119852</td>\n",
       "      <td>119937</td>\n",
       "    </tr>\n",
       "  </tbody>\n",
       "</table>\n",
       "<p>2 rows × 90 columns</p>\n",
       "</div>"
      ],
      "text/plain": [
       "                index  pitch_type  game_date  release_speed  release_pos_x  \\\n",
       "description                                                                  \n",
       "ball           245084      245077     245084         245084         245084   \n",
       "called_strike  119937      119930     119937         119937         119937   \n",
       "\n",
       "               release_pos_z  player_name  batter  pitcher  events  ...  \\\n",
       "description                                                         ...   \n",
       "ball                  245084       245084  245084   245084   13993  ...   \n",
       "called_strike         119937       119937  119937   119937    9673  ...   \n",
       "\n",
       "               away_score  bat_score  fld_score  post_away_score  \\\n",
       "description                                                        \n",
       "ball               245084     245084     245084           245084   \n",
       "called_strike      119936     119936     119936           119936   \n",
       "\n",
       "               post_home_score  post_bat_score  post_fld_score  \\\n",
       "description                                                      \n",
       "ball                    245084          245084          245084   \n",
       "called_strike           119936          119936          119936   \n",
       "\n",
       "               if_fielding_alignment  of_fielding_alignment  octant  \n",
       "description                                                          \n",
       "ball                          244914                 244914  245084  \n",
       "called_strike                 119852                 119852  119937  \n",
       "\n",
       "[2 rows x 90 columns]"
      ]
     },
     "execution_count": 281,
     "metadata": {},
     "output_type": "execute_result"
    }
   ],
   "source": [
    "no_swing.groupby('description').count()"
   ]
  },
  {
   "cell_type": "code",
   "execution_count": 282,
   "metadata": {},
   "outputs": [
    {
     "data": {
      "text/plain": [
       "80406"
      ]
     },
     "execution_count": 282,
     "metadata": {},
     "output_type": "execute_result"
    }
   ],
   "source": [
    "len(oct0.loc[oct0['description']=='called_strike'])"
   ]
  },
  {
   "cell_type": "code",
   "execution_count": 283,
   "metadata": {},
   "outputs": [
    {
     "data": {
      "text/plain": [
       "39531"
      ]
     },
     "execution_count": 283,
     "metadata": {},
     "output_type": "execute_result"
    }
   ],
   "source": [
    "len(ooz_strikes)"
   ]
  },
  {
   "cell_type": "code",
   "execution_count": 286,
   "metadata": {},
   "outputs": [],
   "source": [
    "ooz_pitches = no_swing.loc[no_swing['octant']!='oct0']"
   ]
  },
  {
   "cell_type": "code",
   "execution_count": 290,
   "metadata": {},
   "outputs": [
    {
     "name": "stderr",
     "output_type": "stream",
     "text": [
      "/Users/jeremiahwilson/anaconda3/lib/python3.7/site-packages/ipykernel_launcher.py:1: SettingWithCopyWarning: \n",
      "A value is trying to be set on a copy of a slice from a DataFrame.\n",
      "Try using .loc[row_indexer,col_indexer] = value instead\n",
      "\n",
      "See the caveats in the documentation: http://pandas.pydata.org/pandas-docs/stable/indexing.html#indexing-view-versus-copy\n",
      "  \"\"\"Entry point for launching an IPython kernel.\n",
      "/Users/jeremiahwilson/anaconda3/lib/python3.7/site-packages/pandas/core/indexing.py:543: SettingWithCopyWarning: \n",
      "A value is trying to be set on a copy of a slice from a DataFrame.\n",
      "Try using .loc[row_indexer,col_indexer] = value instead\n",
      "\n",
      "See the caveats in the documentation: http://pandas.pydata.org/pandas-docs/stable/indexing.html#indexing-view-versus-copy\n",
      "  self.obj[item] = s\n"
     ]
    }
   ],
   "source": [
    "ooz_pitches['distance_from_zone'] = 0\n",
    "#now we can start calculating the distance from the zone based on octant\n",
    "ooz_pitches.loc[ooz_pitches['octant'] == 'oct1', 'distance_from_zone'] = ooz_pitches['plate_z']-ooz_pitches['sz_top']"
   ]
  },
  {
   "cell_type": "code",
   "execution_count": 291,
   "metadata": {},
   "outputs": [],
   "source": [
    "ooz_pitches.loc[ooz_pitches['octant'] == 'oct2', 'distance_from_zone'] = np.sqrt((((ooz_pitches['plate_x']-(8.5/12))**2)+ (ooz_pitches['plate_z']- ooz_pitches['sz_top'])**2))"
   ]
  },
  {
   "cell_type": "code",
   "execution_count": 292,
   "metadata": {},
   "outputs": [],
   "source": [
    "ooz_pitches.loc[ooz_pitches['octant'] == 'oct3', 'distance_from_zone'] = ooz_pitches['plate_x'] - (8.5/12)"
   ]
  },
  {
   "cell_type": "code",
   "execution_count": 293,
   "metadata": {},
   "outputs": [],
   "source": [
    "ooz_pitches.loc[ooz_pitches['octant'] == 'oct4', 'distance_from_zone'] = np.sqrt((((ooz_pitches['plate_x']-(8.5/12))**2) + (ooz_pitches['plate_z']-ooz_pitches['sz_bot'])**2))"
   ]
  },
  {
   "cell_type": "code",
   "execution_count": 294,
   "metadata": {},
   "outputs": [],
   "source": [
    "ooz_pitches.loc[ooz_pitches['octant'] == 'oct5', 'distance_from_zone'] = ooz_pitches['sz_bot']-ooz_pitches['plate_z']"
   ]
  },
  {
   "cell_type": "code",
   "execution_count": 295,
   "metadata": {},
   "outputs": [],
   "source": [
    "ooz_pitches.loc[ooz_pitches['octant'] == 'oct6', 'distance_from_zone'] = np.sqrt((((ooz_pitches['plate_x']-(-8.5/12))**2) + (ooz_pitches['plate_z']-ooz_pitches['sz_bot'])**2))"
   ]
  },
  {
   "cell_type": "code",
   "execution_count": 296,
   "metadata": {},
   "outputs": [],
   "source": [
    "ooz_pitches.loc[ooz_pitches['octant'] == 'oct7', 'distance_from_zone'] = np.sqrt((ooz_pitches['plate_x'] - (-8.5/12))**2)"
   ]
  },
  {
   "cell_type": "code",
   "execution_count": 297,
   "metadata": {},
   "outputs": [],
   "source": [
    "ooz_pitches.loc[ooz_pitches['octant'] == 'oct8', 'distance_from_zone'] = np.sqrt((((ooz_pitches['plate_x']-(-8.5/12))**2)+ (ooz_pitches['plate_z']- ooz_pitches['sz_top'])**2))"
   ]
  },
  {
   "cell_type": "code",
   "execution_count": 301,
   "metadata": {},
   "outputs": [
    {
     "name": "stderr",
     "output_type": "stream",
     "text": [
      "/Users/jeremiahwilson/anaconda3/lib/python3.7/site-packages/ipykernel_launcher.py:2: SettingWithCopyWarning: \n",
      "A value is trying to be set on a copy of a slice from a DataFrame.\n",
      "Try using .loc[row_indexer,col_indexer] = value instead\n",
      "\n",
      "See the caveats in the documentation: http://pandas.pydata.org/pandas-docs/stable/indexing.html#indexing-view-versus-copy\n",
      "  \n"
     ]
    }
   ],
   "source": [
    "ids = qualified.index\n",
    "ooz_pitches['distance_from_zone_inches'] = ooz_pitches['distance_from_zone']*12"
   ]
  },
  {
   "cell_type": "code",
   "execution_count": 312,
   "metadata": {},
   "outputs": [],
   "source": [
    "#calculating the percentage of strikes called for every catcher in 1 inch intervals\n",
    "#on increasing distances from the strikezone and appends them to their respective lists\n",
    "s_perc_1in = []\n",
    "s_perc_2in = []\n",
    "s_perc_3in = []\n",
    "s_perc_4in = []\n",
    "s_perc_5in = []\n",
    "for i in range(len(ids)):\n",
    "    \n",
    "    player = ooz_pitches.loc[ooz_pitches['fielder_2'] == ids[i]]\n",
    "    \n",
    "    inch1 = player.loc[player['distance_from_zone_inches']<=1]\n",
    "    \n",
    "    s_percent1 = round((len(inch1.loc[inch1['description']=='called_strike'])/len(inch1))*100, 2)\n",
    "    \n",
    "    s_perc_1in.append(s_percent1)\n",
    "    \n",
    "    inch2 = player.loc[(player['distance_from_zone_inches']>1) & (player['distance_from_zone_inches']<=2)]\n",
    "    \n",
    "    s_percent2 = round((len(inch2.loc[inch2['description']=='called_strike'])/len(inch2))*100, 2)\n",
    "    \n",
    "    s_perc_2in.append(s_percent2)\n",
    "    \n",
    "    inch3 = player.loc[(player['distance_from_zone_inches']>2) & (player['distance_from_zone_inches']<=3)]\n",
    "    \n",
    "    s_percent3 = round((len(inch3.loc[inch3['description']=='called_strike'])/len(inch3))*100, 2)\n",
    "    \n",
    "    s_perc_3in.append(s_percent3)\n",
    "    \n",
    "    inch4 = player.loc[(player['distance_from_zone_inches']>3) & (player['distance_from_zone_inches']<=4)]\n",
    "    \n",
    "    s_percent4 = round((len(inch4.loc[inch4['description']=='called_strike'])/len(inch4))*100, 2)\n",
    "    \n",
    "    s_perc_4in.append(s_percent4)\n",
    "    \n",
    "    inch5 = player.loc[(player['distance_from_zone_inches']>4) & (player['distance_from_zone_inches']<=5)]\n",
    "    \n",
    "    s_percent5 = round((len(inch5.loc[inch5['description']=='called_strike'])/len(inch5))*100, 2)\n",
    "    \n",
    "    s_perc_5in.append(s_percent5)\n",
    "    "
   ]
  },
  {
   "cell_type": "code",
   "execution_count": 321,
   "metadata": {},
   "outputs": [],
   "source": [
    "#making columns with the strike percentages\n",
    "qualified['strike% 0-1inch'] = s_perc_1in\n",
    "qualified['strike% 1-2inch'] = s_perc_2in\n",
    "qualified['strike% 2-3inch'] = s_perc_3in\n",
    "qualified['strike% 3-4inch'] = s_perc_4in\n",
    "qualified['strike% 4-5inch'] = s_perc_5in"
   ]
  },
  {
   "cell_type": "code",
   "execution_count": 340,
   "metadata": {},
   "outputs": [],
   "source": [
    "qualified.rename(columns = {'pitch_count': 'stolen strikes', 'distance from zone (Inches)': 'distance from zone (inches)'}, inplace =True)"
   ]
  },
  {
   "cell_type": "code",
   "execution_count": 343,
   "metadata": {},
   "outputs": [
    {
     "data": {
      "text/html": [
       "<div>\n",
       "<style scoped>\n",
       "    .dataframe tbody tr th:only-of-type {\n",
       "        vertical-align: middle;\n",
       "    }\n",
       "\n",
       "    .dataframe tbody tr th {\n",
       "        vertical-align: top;\n",
       "    }\n",
       "\n",
       "    .dataframe thead th {\n",
       "        text-align: right;\n",
       "    }\n",
       "</style>\n",
       "<table border=\"1\" class=\"dataframe\">\n",
       "  <thead>\n",
       "    <tr style=\"text-align: right;\">\n",
       "      <th></th>\n",
       "      <th>name</th>\n",
       "      <th>stolen strikes</th>\n",
       "      <th>distance from zone (inches)</th>\n",
       "    </tr>\n",
       "    <tr>\n",
       "      <th>key_mlbam</th>\n",
       "      <th></th>\n",
       "      <th></th>\n",
       "      <th></th>\n",
       "    </tr>\n",
       "  </thead>\n",
       "  <tbody>\n",
       "    <tr>\n",
       "      <th>595978</th>\n",
       "      <td>austin hedges</td>\n",
       "      <td>913</td>\n",
       "      <td>1.965924</td>\n",
       "    </tr>\n",
       "    <tr>\n",
       "      <th>457763</th>\n",
       "      <td>buster posey</td>\n",
       "      <td>835</td>\n",
       "      <td>1.891855</td>\n",
       "    </tr>\n",
       "    <tr>\n",
       "      <th>467092</th>\n",
       "      <td>wilson ramos</td>\n",
       "      <td>962</td>\n",
       "      <td>1.891685</td>\n",
       "    </tr>\n",
       "    <tr>\n",
       "      <th>518735</th>\n",
       "      <td>yasmani grandal</td>\n",
       "      <td>1069</td>\n",
       "      <td>1.856082</td>\n",
       "    </tr>\n",
       "    <tr>\n",
       "      <th>435263</th>\n",
       "      <td>brian mccann</td>\n",
       "      <td>670</td>\n",
       "      <td>1.835917</td>\n",
       "    </tr>\n",
       "    <tr>\n",
       "      <th>452095</th>\n",
       "      <td>tyler flowers</td>\n",
       "      <td>714</td>\n",
       "      <td>1.825966</td>\n",
       "    </tr>\n",
       "    <tr>\n",
       "      <th>575929</th>\n",
       "      <td>willson contreras</td>\n",
       "      <td>784</td>\n",
       "      <td>1.824694</td>\n",
       "    </tr>\n",
       "    <tr>\n",
       "      <th>592663</th>\n",
       "      <td>j. t. realmuto</td>\n",
       "      <td>1089</td>\n",
       "      <td>1.824060</td>\n",
       "    </tr>\n",
       "    <tr>\n",
       "      <th>571466</th>\n",
       "      <td>tucker barnhart</td>\n",
       "      <td>670</td>\n",
       "      <td>1.806727</td>\n",
       "    </tr>\n",
       "    <tr>\n",
       "      <th>543877</th>\n",
       "      <td>christian vazquez</td>\n",
       "      <td>970</td>\n",
       "      <td>1.802351</td>\n",
       "    </tr>\n",
       "    <tr>\n",
       "      <th>643376</th>\n",
       "      <td>danny jansen</td>\n",
       "      <td>791</td>\n",
       "      <td>1.785770</td>\n",
       "    </tr>\n",
       "    <tr>\n",
       "      <th>595751</th>\n",
       "      <td>jorge alfaro</td>\n",
       "      <td>858</td>\n",
       "      <td>1.784712</td>\n",
       "    </tr>\n",
       "    <tr>\n",
       "      <th>543228</th>\n",
       "      <td>yan gomes</td>\n",
       "      <td>770</td>\n",
       "      <td>1.782781</td>\n",
       "    </tr>\n",
       "    <tr>\n",
       "      <th>596142</th>\n",
       "      <td>gary sanchez</td>\n",
       "      <td>695</td>\n",
       "      <td>1.778976</td>\n",
       "    </tr>\n",
       "    <tr>\n",
       "      <th>425877</th>\n",
       "      <td>yadier molina</td>\n",
       "      <td>890</td>\n",
       "      <td>1.769703</td>\n",
       "    </tr>\n",
       "    <tr>\n",
       "      <th>547379</th>\n",
       "      <td>roberto perez</td>\n",
       "      <td>904</td>\n",
       "      <td>1.758093</td>\n",
       "    </tr>\n",
       "  </tbody>\n",
       "</table>\n",
       "</div>"
      ],
      "text/plain": [
       "                        name  stolen strikes  distance from zone (inches)\n",
       "key_mlbam                                                                \n",
       "595978         austin hedges             913                     1.965924\n",
       "457763          buster posey             835                     1.891855\n",
       "467092          wilson ramos             962                     1.891685\n",
       "518735       yasmani grandal            1069                     1.856082\n",
       "435263          brian mccann             670                     1.835917\n",
       "452095         tyler flowers             714                     1.825966\n",
       "575929     willson contreras             784                     1.824694\n",
       "592663        j. t. realmuto            1089                     1.824060\n",
       "571466       tucker barnhart             670                     1.806727\n",
       "543877     christian vazquez             970                     1.802351\n",
       "643376          danny jansen             791                     1.785770\n",
       "595751          jorge alfaro             858                     1.784712\n",
       "543228             yan gomes             770                     1.782781\n",
       "596142          gary sanchez             695                     1.778976\n",
       "425877         yadier molina             890                     1.769703\n",
       "547379         roberto perez             904                     1.758093"
      ]
     },
     "execution_count": 343,
     "metadata": {},
     "output_type": "execute_result"
    }
   ],
   "source": [
    "qualified[['name','stolen strikes', 'distance from zone (inches)']][0:16]"
   ]
  },
  {
   "cell_type": "code",
   "execution_count": 354,
   "metadata": {},
   "outputs": [],
   "source": [
    "strike_percents = qualified[['name','strike% 0-1inch','strike% 1-2inch', 'strike% 2-3inch', 'strike% 3-4inch' , 'strike% 4-5inch']]"
   ]
  },
  {
   "cell_type": "code",
   "execution_count": 353,
   "metadata": {},
   "outputs": [
    {
     "data": {
      "text/plain": [
       "34.50294117647058"
      ]
     },
     "execution_count": 353,
     "metadata": {},
     "output_type": "execute_result"
    }
   ],
   "source": [
    "strike_percents['strike% 2-3inch'].mean()"
   ]
  },
  {
   "cell_type": "code",
   "execution_count": 367,
   "metadata": {},
   "outputs": [],
   "source": [
    "total_strike = []\n",
    "ids = strike_percents.index\n",
    "for i in range(len(strike_percents.index)):\n",
    "    \n",
    "    player = ooz_pitches[ooz_pitches['fielder_2']==ids[i]]\n",
    "    \n",
    "    within = player.loc[player['distance_from_zone_inches']<=5]\n",
    "    \n",
    "    percentage = round((len(within.loc[within['description']=='called_strike'])/len(within))*100, 2)\n",
    "    \n",
    "    total_strike.append(percentage)"
   ]
  },
  {
   "cell_type": "code",
   "execution_count": 369,
   "metadata": {},
   "outputs": [
    {
     "name": "stderr",
     "output_type": "stream",
     "text": [
      "/Users/jeremiahwilson/anaconda3/lib/python3.7/site-packages/ipykernel_launcher.py:1: SettingWithCopyWarning: \n",
      "A value is trying to be set on a copy of a slice from a DataFrame.\n",
      "Try using .loc[row_indexer,col_indexer] = value instead\n",
      "\n",
      "See the caveats in the documentation: http://pandas.pydata.org/pandas-docs/stable/indexing.html#indexing-view-versus-copy\n",
      "  \"\"\"Entry point for launching an IPython kernel.\n"
     ]
    }
   ],
   "source": [
    "strike_percents['total strike%'] = total_strike"
   ]
  },
  {
   "cell_type": "code",
   "execution_count": 370,
   "metadata": {},
   "outputs": [
    {
     "data": {
      "text/html": [
       "<div>\n",
       "<style scoped>\n",
       "    .dataframe tbody tr th:only-of-type {\n",
       "        vertical-align: middle;\n",
       "    }\n",
       "\n",
       "    .dataframe tbody tr th {\n",
       "        vertical-align: top;\n",
       "    }\n",
       "\n",
       "    .dataframe thead th {\n",
       "        text-align: right;\n",
       "    }\n",
       "</style>\n",
       "<table border=\"1\" class=\"dataframe\">\n",
       "  <thead>\n",
       "    <tr style=\"text-align: right;\">\n",
       "      <th></th>\n",
       "      <th>name</th>\n",
       "      <th>strike% 0-1inch</th>\n",
       "      <th>strike% 1-2inch</th>\n",
       "      <th>strike% 2-3inch</th>\n",
       "      <th>strike% 3-4inch</th>\n",
       "      <th>strike% 4-5inch</th>\n",
       "      <th>total strike%</th>\n",
       "    </tr>\n",
       "    <tr>\n",
       "      <th>key_mlbam</th>\n",
       "      <th></th>\n",
       "      <th></th>\n",
       "      <th></th>\n",
       "      <th></th>\n",
       "      <th></th>\n",
       "      <th></th>\n",
       "      <th></th>\n",
       "    </tr>\n",
       "  </thead>\n",
       "  <tbody>\n",
       "    <tr>\n",
       "      <th>595978</th>\n",
       "      <td>austin hedges</td>\n",
       "      <td>80.22</td>\n",
       "      <td>62.02</td>\n",
       "      <td>47.46</td>\n",
       "      <td>28.50</td>\n",
       "      <td>12.06</td>\n",
       "      <td>44.77</td>\n",
       "    </tr>\n",
       "    <tr>\n",
       "      <th>452095</th>\n",
       "      <td>tyler flowers</td>\n",
       "      <td>79.79</td>\n",
       "      <td>67.75</td>\n",
       "      <td>41.95</td>\n",
       "      <td>22.97</td>\n",
       "      <td>10.48</td>\n",
       "      <td>42.65</td>\n",
       "    </tr>\n",
       "    <tr>\n",
       "      <th>457763</th>\n",
       "      <td>buster posey</td>\n",
       "      <td>76.29</td>\n",
       "      <td>55.68</td>\n",
       "      <td>43.04</td>\n",
       "      <td>28.10</td>\n",
       "      <td>12.70</td>\n",
       "      <td>41.76</td>\n",
       "    </tr>\n",
       "    <tr>\n",
       "      <th>543877</th>\n",
       "      <td>christian vazquez</td>\n",
       "      <td>75.06</td>\n",
       "      <td>59.37</td>\n",
       "      <td>35.82</td>\n",
       "      <td>26.60</td>\n",
       "      <td>10.76</td>\n",
       "      <td>40.92</td>\n",
       "    </tr>\n",
       "    <tr>\n",
       "      <th>547379</th>\n",
       "      <td>roberto perez</td>\n",
       "      <td>78.17</td>\n",
       "      <td>57.73</td>\n",
       "      <td>41.16</td>\n",
       "      <td>22.57</td>\n",
       "      <td>6.51</td>\n",
       "      <td>40.50</td>\n",
       "    </tr>\n",
       "    <tr>\n",
       "      <th>608348</th>\n",
       "      <td>carson kelly</td>\n",
       "      <td>77.95</td>\n",
       "      <td>58.15</td>\n",
       "      <td>38.40</td>\n",
       "      <td>23.48</td>\n",
       "      <td>4.60</td>\n",
       "      <td>39.90</td>\n",
       "    </tr>\n",
       "    <tr>\n",
       "      <th>608596</th>\n",
       "      <td>tom murphy</td>\n",
       "      <td>76.34</td>\n",
       "      <td>59.51</td>\n",
       "      <td>38.41</td>\n",
       "      <td>22.54</td>\n",
       "      <td>7.89</td>\n",
       "      <td>39.89</td>\n",
       "    </tr>\n",
       "    <tr>\n",
       "      <th>435263</th>\n",
       "      <td>brian mccann</td>\n",
       "      <td>75.79</td>\n",
       "      <td>61.41</td>\n",
       "      <td>38.33</td>\n",
       "      <td>23.84</td>\n",
       "      <td>7.87</td>\n",
       "      <td>39.61</td>\n",
       "    </tr>\n",
       "    <tr>\n",
       "      <th>518735</th>\n",
       "      <td>yasmani grandal</td>\n",
       "      <td>76.75</td>\n",
       "      <td>59.92</td>\n",
       "      <td>38.80</td>\n",
       "      <td>20.42</td>\n",
       "      <td>12.11</td>\n",
       "      <td>39.60</td>\n",
       "    </tr>\n",
       "    <tr>\n",
       "      <th>592663</th>\n",
       "      <td>j. t. realmuto</td>\n",
       "      <td>76.10</td>\n",
       "      <td>56.90</td>\n",
       "      <td>35.56</td>\n",
       "      <td>23.95</td>\n",
       "      <td>8.91</td>\n",
       "      <td>39.32</td>\n",
       "    </tr>\n",
       "    <tr>\n",
       "      <th>643376</th>\n",
       "      <td>danny jansen</td>\n",
       "      <td>78.15</td>\n",
       "      <td>54.97</td>\n",
       "      <td>40.05</td>\n",
       "      <td>20.15</td>\n",
       "      <td>9.58</td>\n",
       "      <td>38.81</td>\n",
       "    </tr>\n",
       "    <tr>\n",
       "      <th>519222</th>\n",
       "      <td>austin romine</td>\n",
       "      <td>77.27</td>\n",
       "      <td>56.52</td>\n",
       "      <td>35.46</td>\n",
       "      <td>21.22</td>\n",
       "      <td>6.50</td>\n",
       "      <td>38.06</td>\n",
       "    </tr>\n",
       "    <tr>\n",
       "      <th>571466</th>\n",
       "      <td>tucker barnhart</td>\n",
       "      <td>72.05</td>\n",
       "      <td>57.10</td>\n",
       "      <td>33.69</td>\n",
       "      <td>25.67</td>\n",
       "      <td>7.92</td>\n",
       "      <td>38.05</td>\n",
       "    </tr>\n",
       "    <tr>\n",
       "      <th>488771</th>\n",
       "      <td>jason castro</td>\n",
       "      <td>70.00</td>\n",
       "      <td>58.84</td>\n",
       "      <td>30.77</td>\n",
       "      <td>21.97</td>\n",
       "      <td>6.73</td>\n",
       "      <td>37.17</td>\n",
       "    </tr>\n",
       "    <tr>\n",
       "      <th>425877</th>\n",
       "      <td>yadier molina</td>\n",
       "      <td>68.89</td>\n",
       "      <td>55.11</td>\n",
       "      <td>33.08</td>\n",
       "      <td>18.14</td>\n",
       "      <td>10.47</td>\n",
       "      <td>36.80</td>\n",
       "    </tr>\n",
       "    <tr>\n",
       "      <th>575929</th>\n",
       "      <td>willson contreras</td>\n",
       "      <td>72.95</td>\n",
       "      <td>51.19</td>\n",
       "      <td>32.97</td>\n",
       "      <td>20.90</td>\n",
       "      <td>10.56</td>\n",
       "      <td>36.78</td>\n",
       "    </tr>\n",
       "  </tbody>\n",
       "</table>\n",
       "</div>"
      ],
      "text/plain": [
       "                        name  strike% 0-1inch  strike% 1-2inch  \\\n",
       "key_mlbam                                                        \n",
       "595978         austin hedges            80.22            62.02   \n",
       "452095         tyler flowers            79.79            67.75   \n",
       "457763          buster posey            76.29            55.68   \n",
       "543877     christian vazquez            75.06            59.37   \n",
       "547379         roberto perez            78.17            57.73   \n",
       "608348          carson kelly            77.95            58.15   \n",
       "608596            tom murphy            76.34            59.51   \n",
       "435263          brian mccann            75.79            61.41   \n",
       "518735       yasmani grandal            76.75            59.92   \n",
       "592663        j. t. realmuto            76.10            56.90   \n",
       "643376          danny jansen            78.15            54.97   \n",
       "519222         austin romine            77.27            56.52   \n",
       "571466       tucker barnhart            72.05            57.10   \n",
       "488771          jason castro            70.00            58.84   \n",
       "425877         yadier molina            68.89            55.11   \n",
       "575929     willson contreras            72.95            51.19   \n",
       "\n",
       "           strike% 2-3inch  strike% 3-4inch  strike% 4-5inch  total strike%  \n",
       "key_mlbam                                                                    \n",
       "595978               47.46            28.50            12.06          44.77  \n",
       "452095               41.95            22.97            10.48          42.65  \n",
       "457763               43.04            28.10            12.70          41.76  \n",
       "543877               35.82            26.60            10.76          40.92  \n",
       "547379               41.16            22.57             6.51          40.50  \n",
       "608348               38.40            23.48             4.60          39.90  \n",
       "608596               38.41            22.54             7.89          39.89  \n",
       "435263               38.33            23.84             7.87          39.61  \n",
       "518735               38.80            20.42            12.11          39.60  \n",
       "592663               35.56            23.95             8.91          39.32  \n",
       "643376               40.05            20.15             9.58          38.81  \n",
       "519222               35.46            21.22             6.50          38.06  \n",
       "571466               33.69            25.67             7.92          38.05  \n",
       "488771               30.77            21.97             6.73          37.17  \n",
       "425877               33.08            18.14            10.47          36.80  \n",
       "575929               32.97            20.90            10.56          36.78  "
      ]
     },
     "execution_count": 370,
     "metadata": {},
     "output_type": "execute_result"
    }
   ],
   "source": [
    "strike_percents.sort_values(by = ['total strike%'], ascending = False)[0:16]"
   ]
  },
  {
   "cell_type": "code",
   "execution_count": 373,
   "metadata": {},
   "outputs": [],
   "source": [
    "strikeouts = data.loc[data['events']=='strikeout']"
   ]
  },
  {
   "cell_type": "code",
   "execution_count": 374,
   "metadata": {},
   "outputs": [
    {
     "data": {
      "text/html": [
       "<div>\n",
       "<style scoped>\n",
       "    .dataframe tbody tr th:only-of-type {\n",
       "        vertical-align: middle;\n",
       "    }\n",
       "\n",
       "    .dataframe tbody tr th {\n",
       "        vertical-align: top;\n",
       "    }\n",
       "\n",
       "    .dataframe thead th {\n",
       "        text-align: right;\n",
       "    }\n",
       "</style>\n",
       "<table border=\"1\" class=\"dataframe\">\n",
       "  <thead>\n",
       "    <tr style=\"text-align: right;\">\n",
       "      <th></th>\n",
       "      <th>index</th>\n",
       "      <th>pitch_type</th>\n",
       "      <th>game_date</th>\n",
       "      <th>release_speed</th>\n",
       "      <th>release_pos_x</th>\n",
       "      <th>release_pos_z</th>\n",
       "      <th>player_name</th>\n",
       "      <th>batter</th>\n",
       "      <th>pitcher</th>\n",
       "      <th>events</th>\n",
       "      <th>...</th>\n",
       "      <th>home_score</th>\n",
       "      <th>away_score</th>\n",
       "      <th>bat_score</th>\n",
       "      <th>fld_score</th>\n",
       "      <th>post_away_score</th>\n",
       "      <th>post_home_score</th>\n",
       "      <th>post_bat_score</th>\n",
       "      <th>post_fld_score</th>\n",
       "      <th>if_fielding_alignment</th>\n",
       "      <th>of_fielding_alignment</th>\n",
       "    </tr>\n",
       "    <tr>\n",
       "      <th>description</th>\n",
       "      <th></th>\n",
       "      <th></th>\n",
       "      <th></th>\n",
       "      <th></th>\n",
       "      <th></th>\n",
       "      <th></th>\n",
       "      <th></th>\n",
       "      <th></th>\n",
       "      <th></th>\n",
       "      <th></th>\n",
       "      <th></th>\n",
       "      <th></th>\n",
       "      <th></th>\n",
       "      <th></th>\n",
       "      <th></th>\n",
       "      <th></th>\n",
       "      <th></th>\n",
       "      <th></th>\n",
       "      <th></th>\n",
       "      <th></th>\n",
       "      <th></th>\n",
       "    </tr>\n",
       "  </thead>\n",
       "  <tbody>\n",
       "    <tr>\n",
       "      <th>bunt_foul_tip</th>\n",
       "      <td>2</td>\n",
       "      <td>2</td>\n",
       "      <td>2</td>\n",
       "      <td>2</td>\n",
       "      <td>2</td>\n",
       "      <td>2</td>\n",
       "      <td>2</td>\n",
       "      <td>2</td>\n",
       "      <td>2</td>\n",
       "      <td>2</td>\n",
       "      <td>...</td>\n",
       "      <td>2</td>\n",
       "      <td>2</td>\n",
       "      <td>2</td>\n",
       "      <td>2</td>\n",
       "      <td>2</td>\n",
       "      <td>2</td>\n",
       "      <td>2</td>\n",
       "      <td>2</td>\n",
       "      <td>2</td>\n",
       "      <td>2</td>\n",
       "    </tr>\n",
       "    <tr>\n",
       "      <th>called_strike</th>\n",
       "      <td>9667</td>\n",
       "      <td>9588</td>\n",
       "      <td>9667</td>\n",
       "      <td>9589</td>\n",
       "      <td>9588</td>\n",
       "      <td>9588</td>\n",
       "      <td>9667</td>\n",
       "      <td>9667</td>\n",
       "      <td>9667</td>\n",
       "      <td>9667</td>\n",
       "      <td>...</td>\n",
       "      <td>9667</td>\n",
       "      <td>9667</td>\n",
       "      <td>9667</td>\n",
       "      <td>9667</td>\n",
       "      <td>9667</td>\n",
       "      <td>9667</td>\n",
       "      <td>9667</td>\n",
       "      <td>9667</td>\n",
       "      <td>9615</td>\n",
       "      <td>9615</td>\n",
       "    </tr>\n",
       "    <tr>\n",
       "      <th>foul_bunt</th>\n",
       "      <td>108</td>\n",
       "      <td>106</td>\n",
       "      <td>108</td>\n",
       "      <td>106</td>\n",
       "      <td>106</td>\n",
       "      <td>106</td>\n",
       "      <td>108</td>\n",
       "      <td>108</td>\n",
       "      <td>108</td>\n",
       "      <td>108</td>\n",
       "      <td>...</td>\n",
       "      <td>108</td>\n",
       "      <td>108</td>\n",
       "      <td>108</td>\n",
       "      <td>108</td>\n",
       "      <td>108</td>\n",
       "      <td>108</td>\n",
       "      <td>108</td>\n",
       "      <td>108</td>\n",
       "      <td>107</td>\n",
       "      <td>107</td>\n",
       "    </tr>\n",
       "    <tr>\n",
       "      <th>foul_tip</th>\n",
       "      <td>2573</td>\n",
       "      <td>2550</td>\n",
       "      <td>2573</td>\n",
       "      <td>2550</td>\n",
       "      <td>2550</td>\n",
       "      <td>2550</td>\n",
       "      <td>2573</td>\n",
       "      <td>2573</td>\n",
       "      <td>2573</td>\n",
       "      <td>2573</td>\n",
       "      <td>...</td>\n",
       "      <td>2573</td>\n",
       "      <td>2573</td>\n",
       "      <td>2573</td>\n",
       "      <td>2573</td>\n",
       "      <td>2573</td>\n",
       "      <td>2573</td>\n",
       "      <td>2573</td>\n",
       "      <td>2573</td>\n",
       "      <td>2551</td>\n",
       "      <td>2551</td>\n",
       "    </tr>\n",
       "    <tr>\n",
       "      <th>missed_bunt</th>\n",
       "      <td>41</td>\n",
       "      <td>41</td>\n",
       "      <td>41</td>\n",
       "      <td>41</td>\n",
       "      <td>41</td>\n",
       "      <td>41</td>\n",
       "      <td>41</td>\n",
       "      <td>41</td>\n",
       "      <td>41</td>\n",
       "      <td>41</td>\n",
       "      <td>...</td>\n",
       "      <td>41</td>\n",
       "      <td>41</td>\n",
       "      <td>41</td>\n",
       "      <td>41</td>\n",
       "      <td>41</td>\n",
       "      <td>41</td>\n",
       "      <td>41</td>\n",
       "      <td>41</td>\n",
       "      <td>41</td>\n",
       "      <td>41</td>\n",
       "    </tr>\n",
       "    <tr>\n",
       "      <th>swinging_strike</th>\n",
       "      <td>26331</td>\n",
       "      <td>26136</td>\n",
       "      <td>26331</td>\n",
       "      <td>26137</td>\n",
       "      <td>26137</td>\n",
       "      <td>26137</td>\n",
       "      <td>26331</td>\n",
       "      <td>26331</td>\n",
       "      <td>26331</td>\n",
       "      <td>26331</td>\n",
       "      <td>...</td>\n",
       "      <td>26331</td>\n",
       "      <td>26331</td>\n",
       "      <td>26331</td>\n",
       "      <td>26331</td>\n",
       "      <td>26331</td>\n",
       "      <td>26331</td>\n",
       "      <td>26331</td>\n",
       "      <td>26331</td>\n",
       "      <td>26222</td>\n",
       "      <td>26222</td>\n",
       "    </tr>\n",
       "    <tr>\n",
       "      <th>swinging_strike_blocked</th>\n",
       "      <td>4182</td>\n",
       "      <td>4153</td>\n",
       "      <td>4182</td>\n",
       "      <td>4153</td>\n",
       "      <td>4153</td>\n",
       "      <td>4153</td>\n",
       "      <td>4182</td>\n",
       "      <td>4182</td>\n",
       "      <td>4182</td>\n",
       "      <td>4182</td>\n",
       "      <td>...</td>\n",
       "      <td>4182</td>\n",
       "      <td>4182</td>\n",
       "      <td>4182</td>\n",
       "      <td>4182</td>\n",
       "      <td>4182</td>\n",
       "      <td>4182</td>\n",
       "      <td>4182</td>\n",
       "      <td>4182</td>\n",
       "      <td>4167</td>\n",
       "      <td>4167</td>\n",
       "    </tr>\n",
       "  </tbody>\n",
       "</table>\n",
       "<p>7 rows × 89 columns</p>\n",
       "</div>"
      ],
      "text/plain": [
       "                         index  pitch_type  game_date  release_speed  \\\n",
       "description                                                            \n",
       "bunt_foul_tip                2           2          2              2   \n",
       "called_strike             9667        9588       9667           9589   \n",
       "foul_bunt                  108         106        108            106   \n",
       "foul_tip                  2573        2550       2573           2550   \n",
       "missed_bunt                 41          41         41             41   \n",
       "swinging_strike          26331       26136      26331          26137   \n",
       "swinging_strike_blocked   4182        4153       4182           4153   \n",
       "\n",
       "                         release_pos_x  release_pos_z  player_name  batter  \\\n",
       "description                                                                  \n",
       "bunt_foul_tip                        2              2            2       2   \n",
       "called_strike                     9588           9588         9667    9667   \n",
       "foul_bunt                          106            106          108     108   \n",
       "foul_tip                          2550           2550         2573    2573   \n",
       "missed_bunt                         41             41           41      41   \n",
       "swinging_strike                  26137          26137        26331   26331   \n",
       "swinging_strike_blocked           4153           4153         4182    4182   \n",
       "\n",
       "                         pitcher  events  ...  home_score  away_score  \\\n",
       "description                               ...                           \n",
       "bunt_foul_tip                  2       2  ...           2           2   \n",
       "called_strike               9667    9667  ...        9667        9667   \n",
       "foul_bunt                    108     108  ...         108         108   \n",
       "foul_tip                    2573    2573  ...        2573        2573   \n",
       "missed_bunt                   41      41  ...          41          41   \n",
       "swinging_strike            26331   26331  ...       26331       26331   \n",
       "swinging_strike_blocked     4182    4182  ...        4182        4182   \n",
       "\n",
       "                         bat_score  fld_score  post_away_score  \\\n",
       "description                                                      \n",
       "bunt_foul_tip                    2          2                2   \n",
       "called_strike                 9667       9667             9667   \n",
       "foul_bunt                      108        108              108   \n",
       "foul_tip                      2573       2573             2573   \n",
       "missed_bunt                     41         41               41   \n",
       "swinging_strike              26331      26331            26331   \n",
       "swinging_strike_blocked       4182       4182             4182   \n",
       "\n",
       "                         post_home_score  post_bat_score  post_fld_score  \\\n",
       "description                                                                \n",
       "bunt_foul_tip                          2               2               2   \n",
       "called_strike                       9667            9667            9667   \n",
       "foul_bunt                            108             108             108   \n",
       "foul_tip                            2573            2573            2573   \n",
       "missed_bunt                           41              41              41   \n",
       "swinging_strike                    26331           26331           26331   \n",
       "swinging_strike_blocked             4182            4182            4182   \n",
       "\n",
       "                         if_fielding_alignment  of_fielding_alignment  \n",
       "description                                                            \n",
       "bunt_foul_tip                                2                      2  \n",
       "called_strike                             9615                   9615  \n",
       "foul_bunt                                  107                    107  \n",
       "foul_tip                                  2551                   2551  \n",
       "missed_bunt                                 41                     41  \n",
       "swinging_strike                          26222                  26222  \n",
       "swinging_strike_blocked                   4167                   4167  \n",
       "\n",
       "[7 rows x 89 columns]"
      ]
     },
     "execution_count": 374,
     "metadata": {},
     "output_type": "execute_result"
    }
   ],
   "source": [
    "strikeouts.groupby('description').count()"
   ]
  },
  {
   "cell_type": "code",
   "execution_count": 375,
   "metadata": {},
   "outputs": [
    {
     "data": {
      "text/plain": [
       "42904"
      ]
     },
     "execution_count": 375,
     "metadata": {},
     "output_type": "execute_result"
    }
   ],
   "source": [
    "len(strikeouts)"
   ]
  },
  {
   "cell_type": "code",
   "execution_count": null,
   "metadata": {},
   "outputs": [],
   "source": []
  }
 ],
 "metadata": {
  "kernelspec": {
   "display_name": "Python 3",
   "language": "python",
   "name": "python3"
  },
  "language_info": {
   "codemirror_mode": {
    "name": "ipython",
    "version": 3
   },
   "file_extension": ".py",
   "mimetype": "text/x-python",
   "name": "python",
   "nbconvert_exporter": "python",
   "pygments_lexer": "ipython3",
   "version": "3.7.3"
  }
 },
 "nbformat": 4,
 "nbformat_minor": 2
}
